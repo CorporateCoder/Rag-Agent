{
 "cells": [
  {
   "cell_type": "code",
   "execution_count": 1,
   "id": "48f0a565",
   "metadata": {},
   "outputs": [],
   "source": [
    "#pip install faiss-cpu\n",
    "#pip install pymupdf\n",
    "#https://github.com/laxmimerit/rag-dataset"
   ]
  },
  {
   "cell_type": "code",
   "execution_count": 2,
   "id": "c93bb1df",
   "metadata": {},
   "outputs": [
    {
     "data": {
      "text/plain": [
       "True"
      ]
     },
     "execution_count": 2,
     "metadata": {},
     "output_type": "execute_result"
    }
   ],
   "source": [
    "import os \n",
    "import warnings \n",
    "from dotenv import load_dotenv\n",
    "os.environ[\"KMP_DUPLICATE_LIB_OK\"]=\"TRUE\"\n",
    "warnings.filterwarnings(\"ignore\")\n",
    "\n",
    "load_dotenv()"
   ]
  },
  {
   "cell_type": "markdown",
   "id": "c9e36454",
   "metadata": {},
   "source": [
    "## Document Loader"
   ]
  },
  {
   "cell_type": "code",
   "execution_count": 3,
   "id": "8c9770d9",
   "metadata": {},
   "outputs": [
    {
     "name": "stderr",
     "output_type": "stream",
     "text": [
      "fatal: destination path 'rag-dataset' already exists and is not an empty directory.\n"
     ]
    }
   ],
   "source": [
    "!git clone https://github.com/laxmimerit/rag-dataset"
   ]
  },
  {
   "cell_type": "code",
   "execution_count": 4,
   "id": "ee93f2e3",
   "metadata": {},
   "outputs": [
    {
     "data": {
      "text/plain": [
       "[Document(metadata={'producer': 'iLovePDF', 'creator': '', 'creationdate': '', 'source': 'rag-dataset/gym supplements/1. Analysis of Actual Fitness Supplement.pdf', 'file_path': 'rag-dataset/gym supplements/1. Analysis of Actual Fitness Supplement.pdf', 'total_pages': 15, 'format': 'PDF 1.7', 'title': '', 'author': '', 'subject': '', 'keywords': '', 'moddate': '2024-10-21T11:38:50+00:00', 'trapped': '', 'modDate': 'D:20241021113850Z', 'creationDate': '', 'page': 0}, page_content='Citation: Espeño, P.R.; Ong, A.K.S.;\\nGerman, J.D.; Gumasing, M.J.J.; Casas,\\nE.S. Analysis of Actual Fitness\\nSupplement Consumption among\\nHealth and Fitness Enthusiasts. Foods\\n2024, 13, 1424. https://doi.org/\\n10.3390/foods13091424\\nAcademic Editors: Ilija Djekic\\nand Nada Smigic\\nReceived: 30 March 2024\\nRevised: 15 April 2024\\nAccepted: 18 April 2024\\nPublished: 6 May 2024\\nCopyright: © 2024 by the authors.\\nLicensee MDPI, Basel, Switzerland.\\nThis article is an open access article\\ndistributed\\nunder\\nthe\\nterms\\nand\\nconditions of the Creative Commons\\nAttribution (CC BY) license (https://\\ncreativecommons.org/licenses/by/\\n4.0/).\\nfoods\\nArticle\\nAnalysis of Actual Fitness Supplement Consumption among\\nHealth and Fitness Enthusiasts\\nPaolo Renzo Espeño 1, Ardvin Kester S. Ong 1,2,*\\n, Josephine D. German 1\\n, Ma. Janice J. Gumasing 3\\nand Ethan S. Casas 1\\n1\\nSchool of Industrial Engineering and Engineering Management, Mapúa University, 658 Muralla St.,\\nIntramuros, Manila 1002, Philippines\\n2\\nE.T. Yuchengo School of Business, Mapúa University, 1191 Pablo Ocampo Sr. Ext., Makati 1204, Philippines\\n3\\nDepartment of Industrial and Systems Engineering, Gokongwei College of Engineering,\\nDe La Salle University, 2401 Taft Ave., Manila 1007, Philippines\\n*\\nCorrespondence: aksong@mapua.edu.ph; Tel.: +63-(2)8247-5000 (ext. 6202)\\nAbstract: With the rising popularity of fitness supplements, understanding the factors driving their\\nconsumption behaviors is crucial. This study investigated the actual consumption of fitness supple-\\nments utilizing the Theory of Planned Behavior (TPB), Health Belief Model (HBM), and the Theory\\nof Effort Minimization in Physical Activity (TEMPA) frameworks. The TPB provided insights into\\nhow attitudes, subjective norms, and perceived behavioral control influence individuals’ intentions\\nto consume fitness supplements. Additionally, the HBM sheds light on perceived effectiveness,\\nbenefits, barriers, and health motivation related to supplement consumption. Integrating the TEMPA\\nframework further investigated the role of effort minimization in physical activity contexts. Through\\nan online questionnaire, data were collected from a sample of 250 fitness supplement-consuming\\nrespondents. SEM analysis revealed significant associations between behavioral intentions and\\nattitudes, perceived behavioral control, health motivation, and controlled precursors. However, it\\nwas seen that subjective norms, perceived effectiveness, perceived benefits, and automatic precursors\\nwere deemed insignificant. The findings contribute to a comprehensive understanding of the factors\\nshaping actual consumption behaviors, offering valuable implications for marketers, health profes-\\nsionals, and policymakers seeking to promote informed and responsible supplement use among\\nhealth and fitness enthusiasts.\\nKeywords: fitness supplements; health belief model; theory of effort of minimization; theory of\\nplanned behavior; structural equation modelling\\n1. Introduction\\nSupplementary drinks or fitness supplements are commonly used to enhance an\\nindividual’s performance in various sports and health settings, catering to both competitive\\nand non-competitive athletes [1]. One widely known supplement for athletes and fitness\\nenthusiasts is protein supplements like protein shakes. Others may be whey protein,\\ncaffeine, and creatine, to name a few. These supplements play a crucial role in helping\\nindividuals increase muscle mass, recover faster, and enhance their overall performance [2].\\nWhey protein stands out as a top-quality protein source, containing more essential amino\\nacids than traditional protein sources. Its numerous benefits have made it a popular choice\\nfor snacks and drinks among consumers [3]. Another widely embraced supplement is\\ncaffeine, which is found in many sports and food supplements. Caffeine reduces perceived\\neffort, minimizes fatigue and pain, and proves to be effective for endurance and high-\\nintensity activities, which is the choice of consumers [4].\\nCreatine monohydrate is another well-known supplement used to gain muscle mass\\nand support performance and recovery. It is known not to increase fat mass and remains\\neffective even when taken in recommended doses [5]. Despite its popularity in the fitness\\nFoods 2024, 13, 1424. https://doi.org/10.3390/foods13091424\\nhttps://www.mdpi.com/journal/foods'),\n",
       " Document(metadata={'producer': 'iLovePDF', 'creator': '', 'creationdate': '', 'source': 'rag-dataset/gym supplements/1. Analysis of Actual Fitness Supplement.pdf', 'file_path': 'rag-dataset/gym supplements/1. Analysis of Actual Fitness Supplement.pdf', 'total_pages': 15, 'format': 'PDF 1.7', 'title': '', 'author': '', 'subject': '', 'keywords': '', 'moddate': '2024-10-21T11:38:50+00:00', 'trapped': '', 'modDate': 'D:20241021113850Z', 'creationDate': '', 'page': 1}, page_content='Foods 2024, 13, 1424\\n2 of 21\\nand sports industry, evidence suggests that creatine can benefit not only athletes but also\\nthe elderly and the general population [6]. Branched-chain amino acids (BCAA) also offer\\na plethora of benefits for consumers. As explained by Sanz et al. [7], BCAAs are stored\\ndirectly in muscles and serve as the raw materials needed to build new muscle. This\\ncontributes to the overall process of strengthening muscles and alleviating post-workout\\nsoreness. Consumers often integrate these supplements into their routines with the aim of\\noptimizing the outcomes they wish to achieve and support overall well-being [1].\\nThe sports supplement industry makes for an impressive market share of nearly\\n$12 billion in the health/wellness portfolio and is projected to be worth $24.4 billion\\nby 2025. In a study by Burke [4], which investigated 20 published studies about the\\nprevalence, methods, and reasons for supplement consumption, it is evident from the\\nfindings that supplement consumption is prevalent among athletes and even more so in\\nindividuals competing at higher levels. It can also be confirmed that most gym-goers\\ngenerally use dietary supplements, with a prevalence exceeding 40%, with a prevalence of\\n44% in Portugal and 81% in South Africa [8]. In a set of different studies, the prevalence\\namong gym-goers ranged from 29.4% to 47.5%, and these findings remained consistent. It\\nwas also seen that among 55 Spanish basketball players and English elite track and field\\nathletes, the prevalence was 58% and 86%, respectively [9].\\nWhen investigating the dietary habits of combat sports athletes in the Philippines,\\nthe findings indicated that the overall knowledge of the respondents on nutrition and\\ndietary habits was exceptional. However, the understanding of individuals about the\\nexcess intake of vitamin and mineral supplements was poor [10]. Similarly, Elsahoryi\\net al. [11] assessed the trends on dietary supplements among students and found that\\nsupplements were deemed essential; however, their knowledge of them was concluded to\\nbe insufficient. The findings of these studies implicated a need for educational intervention\\non supplements. Furthermore, the presence of unlicensed and unsafe supplements poses\\na threat to uneducated consumers. The country’s Food and Drug Administration (FDA)\\nissued a strong public caution regarding the use of 11 dietary supplements in 2019. This\\nwas because the products have not undergone the regular evaluation process of the agency,\\nmaking it impossible to ensure the safety and quality of the items [12]. Additionally, the\\navailability of dietary supplements that claimed to help in weight loss has increased in\\ndrugstores and supermarkets. Many of these supplements contain various ingredients,\\ntypically herbs, vitamins, and minerals, caffeine, and laxatives, that when taken collectively,\\nhave unclear effects [13].\\nIndividuals leading luxurious lifestyles tend to exhibit a higher inclination toward\\nthe use of supplements [14], indicating a correlation between lifestyle and the tendency\\nto use supplements. Nagar [15] found attitude to be the most influencing predictor of\\nconsumers’ consumption intention of gym supplements, implying that customers’ attitudes\\ncan be affected by risk and benefits, social influence, and health consciousness. On the\\nother hand, Campbell et al. [16] highlighted perceived behavioral control as not highly\\ninfluenced by attitude and social norms. In another study, additional information on\\nlabels was found to significantly impact consumers’ behavioral intention to use dietary\\nsupplements [17]. The study further explained that consumers often consider using the\\nsupplement if its risks and benefits are well communicated on the label. It was also reported\\nthat customer consumption behavior with regard to fitness supplements is affected by\\ntheir comprehension of the side effects [18]. Moreover, it was indicated that knowledge\\nis a significant variable in consumers’ attitudes, beliefs, and intentions toward the use of\\nsupplements [19]. As knowledge grows, parallel improvement in understanding, belief,\\nand intention to use supplements is present.\\nJairoun et al. [20] suggested a positive perception regarding the use of fitness sup-\\nplements. That is, the consumption of fitness supplements has been perceived to lead to\\ndoping, and users demonstrate stronger intentions and attitudes toward it [21]. These\\nstudies highlighted the gap in proper education regarding supplements that can distort\\nindividuals’ ability to make informed and responsible choices about their consumption,'),\n",
       " Document(metadata={'producer': 'iLovePDF', 'creator': '', 'creationdate': '', 'source': 'rag-dataset/gym supplements/1. Analysis of Actual Fitness Supplement.pdf', 'file_path': 'rag-dataset/gym supplements/1. Analysis of Actual Fitness Supplement.pdf', 'total_pages': 15, 'format': 'PDF 1.7', 'title': '', 'author': '', 'subject': '', 'keywords': '', 'moddate': '2024-10-21T11:38:50+00:00', 'trapped': '', 'modDate': 'D:20241021113850Z', 'creationDate': '', 'page': 2}, page_content='Foods 2024, 13, 1424\\n3 of 21\\npotentially putting their health at risk [22,23]. Moreover, health behavior among consumers\\nwas barely addressed among the studies. It could be posited that scarce to no studies have\\nbeen conducted regarding fitness supplement consumption, especially in the Philippines,\\nwhere gym-goers and fitness enthusiasts are abundant [24]. The emphasis Filipinos place\\non both wellness and aesthetics has fueled a rise in gym participation nationwide. Conse-\\nquently, there has been a notable uptrend in the demand for nutraceuticals, such as protein\\nbars and powders, despite their higher costs [25].\\nThis study aimed to examine factors affecting the actual consumption of fitness supple-\\nments among health and fitness enthusiasts. This study employed a theoretical framework\\nthat combined the Theory of Planned Behavior (TPB), the Health Belief Model (HBM), and\\nthe recently developed Theoretical Framework of Motivation to Pursue Exercise Activities\\n(TEMPA). By integrating these frameworks, this study provided a more holistic under-\\nstanding of the psychological and motivational factors that contribute to the consumption\\nbehavior and intention of fitness supplements. The significance of this study lies in its\\npotential to contribute insights to both academia and the health and fitness industry. Un-\\nderstanding the determinants of supplement consumption can aid in developing targeted\\ninterventions, educational programs, and marketing strategies to promote the responsible\\nand informed use of fitness supplements among enthusiasts, as well as enhancing overall\\nhealth and well-being. Furthermore, the incorporation of the framework represents a novel\\napproach to studying health-related behavior, offering a more nuanced perspective on the\\nintricate interplay of psychological, belief-based, and motivational factors in the context\\nof fitness supplement consumption, which could be applied and extended among other\\nrelated studies.\\n2. Conceptual Analysis and Hypotheses Build-Up\\nFigure 1 presents the conceptual framework of this study, integrating TPB, HBM, and\\nTEMPA. A total of 12 hypotheses were generated along with 12 latent variables. Among the\\ntheories, the TPB is said to be a frequently used behavioral model that aids in investigating\\nshifts in people’s behavior. This model operates on the premise that behavior is intentional,\\nenabling the prediction of actions [26]. On the other hand, the HBM is a well-researched\\nframework for understanding health behavior. It seeks to anticipate behavior related to\\nhealth by examining specific patterns of beliefs [27]. Lastly, several studies have employed\\nTEMPA to align with individuals’ physical efforts. TEMPA is a comprehensive model\\nassessing individuals’ tendency to engage in physical activities, incorporating factors that\\nmay promote their intentions [28].\\nDealing with TPB domains, several studies have justified the effects of behavioral\\nintention on up-taking dietary supplements. In this study, attitude refers to a disposition to\\nreact positively or negatively to a behavior [29]. It is evident in multiple studies that attitude\\nis a variable that has a significant impact on consumer’s behavioral intention. In context,\\nConner et al. [30] investigated the environmental influences that contributed to the decision\\nof women to use dietary supplements. The results showed that stronger intentions to use\\nsupplements were associated with positive attitudes. Liu et al. [31] assessed the effect of the\\nfear of COVID-19 on purchase behavior on dietary supplements. Their findings supported\\nthat attitude, which, alongside other behavioral parameters, significantly affected purchase\\nintention. Moreover, Nagar [15] examined the choice of gym supplements that gym-goers\\nwould purchase. The findings revealed that gym-goers’ intention to buy supplements is\\ninfluenced by their attitude, which is shaped by perceived risk and benefit, social influence,\\nand health consciousness.\\nOn the other hand, subjective norms represent an individual’s perception of others’\\nopinions regarding the execution of a particular behavior, affecting the intentions of Iranian\\nadolescent girls to intake iron and vitamin D supplements [32]. While Housman [33]\\nanalyzed the usage of sports-related supplements of elite female athletes, it was noted that\\ntheir perceptions were influenced greatly by the beliefs held by significant people around\\nthem. Participants expressed that the strongest influences on their behavior came from'),\n",
       " Document(metadata={'producer': 'iLovePDF', 'creator': '', 'creationdate': '', 'source': 'rag-dataset/gym supplements/1. Analysis of Actual Fitness Supplement.pdf', 'file_path': 'rag-dataset/gym supplements/1. Analysis of Actual Fitness Supplement.pdf', 'total_pages': 15, 'format': 'PDF 1.7', 'title': '', 'author': '', 'subject': '', 'keywords': '', 'moddate': '2024-10-21T11:38:50+00:00', 'trapped': '', 'modDate': 'D:20241021113850Z', 'creationDate': '', 'page': 3}, page_content='Foods 2024, 13, 1424\\n4 of 21\\nparents and teammates. The findings of Haubenstricker [34] also stated that subjective\\nnorms and attitude were the most influential drivers in female bodybuilders’ intentions to\\nuse dietary supplements.\\n \\nFigure 1. Conceptual framework combining TEMPA, HBM, and TPB to assess behavioral intention\\nand actual consumption of fitness supplements.\\nIn addition, Lino et al. [35] conducted a study to investigate the attitudes and beliefs\\non dietary supplements among HIV-positive black women. The findings of the study\\nindicated that perceived behavioral control is a significant predictor of intention to use\\ndietary supplements. Similarly, Chen et al. [36] examined the effects of the perceived\\nbenefits of vitamin D supplementation intention. The results presented that the levels of\\nintention to take vitamin D supplements were accurately predicted by factors under the\\nTPB domains; the highest was perceived behavioral control. Pawlak et al. [37] investigated\\nthe drivers of multivitamin consumption in female Caucasian college students. Perceived\\nbehavioral control, along with attitude, were found to have a significant impact on their\\nbehavioral intentions. Thus, in this study hypothesized the following:\\nH1. Attitude has a significant direct effect on behavioral intention.\\nH2. Subjective norms have a significant direct effect on behavioral intention.\\nH3. Perceived behavioral control has a significant direct effect on behavioral intention.\\nFor health and consumers’ belief, Hanna and Hughes [38] investigated the perspective\\nof the public regarding decision-making regarding over-the-counter drugs and their stance\\non the evidence supporting its effectiveness. The results of the study showed that the\\nperceived effectiveness of the medicine influenced their intention to purchase. Similarly,\\nMünstedt et al. [39] investigated the perceived effectiveness of complementary and alterna-\\ntive medicine. The findings indicated that belief in the effectiveness of complementary and\\nalternative medicine were motivating factors. Increasing perceived effectiveness results in'),\n",
       " Document(metadata={'producer': 'iLovePDF', 'creator': '', 'creationdate': '', 'source': 'rag-dataset/gym supplements/1. Analysis of Actual Fitness Supplement.pdf', 'file_path': 'rag-dataset/gym supplements/1. Analysis of Actual Fitness Supplement.pdf', 'total_pages': 15, 'format': 'PDF 1.7', 'title': '', 'author': '', 'subject': '', 'keywords': '', 'moddate': '2024-10-21T11:38:50+00:00', 'trapped': '', 'modDate': 'D:20241021113850Z', 'creationDate': '', 'page': 4}, page_content='Foods 2024, 13, 1424\\n5 of 21\\na positive attitude and stronger purchase intention, underscoring the importance of the\\nfactor in consumer behavior [40]. Hence, the following was hypothesized:\\nH4. Perceived effectiveness has a significant direct effect on behavioral intention.\\nMotivation for health involves an individual’s readiness to modify their behavior\\nfor the sake of enhancing their well-being [41]. In the study by Ataei et al. [42], it was\\nexplained that a significant influence of health motivation, among other factors, on farmers’\\nintentions to adopt green and safer pesticides was seen after they were aware of the benefits\\nof utilizing it. This signified that attitude toward health and the prevention of diseases is\\none of the main drivers to utilize the greener alternatives. Moreover, Sirico [43] observed\\nthat Italian students often consumed food supplements with a focus on overall well-being.\\nThey underscored that the respondents’ pursuit of maintaining good health is a priority.\\nLikewise, Kovács [44] found that leisure-time athletes primarily took supplements as a\\nproactive measure to maintain their health. These findings collectively highlighted the\\ntrend of individuals engaging in behaviors aimed at improving their health. Therefore, the\\nfollowing could be hypothesized:\\nH5. Health motivation has a significant direct effect on behavioral intention.\\nYazdanpanah et al. [45] found that the key factor influencing the intention to consume\\norganic food among Iranian young adults is the perceived health benefit. This suggests\\nthat individuals are inclined to choose organic foods due to their perceived health benefits\\nfor both themselves and the environment, thereby increasing the likelihood of choosing\\norganic options. In a similar vein, Saghafi-Asi [46] identified perceived benefits as a robust\\npredictor of weight management behavior, and Shitu [47] reported a positive correlation\\nbetween perceived benefits and preventive behavior against COVID-19. Thus, this study\\nhypothesized the following:\\nH6. Perceived benefit has a significant direct effect on behavioral intention.\\nPerceived barriers, on the other hand, are the beliefs that carrying out a behavior is\\nrestricted due to psychosocial, physical, or financial factors. When assessing the predictors\\nof the intention to receive the COVID-19 vaccine, low perceived barriers were an important\\npredictor of a definite intention to take the vaccine [48]. Bhandari [49] found that perceived\\nbarriers negatively affected the safety behaviors of farmers to use safer pesticides and\\nadhere to safety behaviors; the findings indicated that educational programs and training\\nwere advised to mitigate the effect of these perceived barriers. Similarly, Pinho et al. [50]\\nfound that perceived barriers also had a significant effect on healthy eating. This suggests\\nthat individuals’ decision to carry out behaviors that positively affect health are significantly\\naffected by perceived barriers. To which, this study hypothesized the following:\\nH7. Perceived barriers have a significant direct effect on behavioral intention.\\nSelf-efficacy is one’s belief in being able to succeed in any task that they are given.\\nThis trait can be general or specific, allowing individuals to have a range of self-efficacy\\nabout themselves [51]. Upon investigating the relationship between dietary supplements\\nand the general self-efficacy levels of athletes, the findings showed that athletes with\\nlower self-efficacy tend to consume more supplements [52]. Broelz et al. [53] found that\\ngiving athletes a supplement with high salience caused them to work harder than products\\nwith low salience, underscoring the psychological benefit of supplements. Another study\\nfocused on ergogenic supplements’ effects on the performance of cycling athletes; they\\nhad a positive effect on the speed and endurance of the cyclists [54]. Similarly, López-\\nTorres et al. [55] discovered that the consumption of ergogenic supplements aided in\\nthe performance of female athletes and enhanced their efficacy to reach specific physical'),\n",
       " Document(metadata={'producer': 'iLovePDF', 'creator': '', 'creationdate': '', 'source': 'rag-dataset/gym supplements/1. Analysis of Actual Fitness Supplement.pdf', 'file_path': 'rag-dataset/gym supplements/1. Analysis of Actual Fitness Supplement.pdf', 'total_pages': 15, 'format': 'PDF 1.7', 'title': '', 'author': '', 'subject': '', 'keywords': '', 'moddate': '2024-10-21T11:38:50+00:00', 'trapped': '', 'modDate': 'D:20241021113850Z', 'creationDate': '', 'page': 5}, page_content='Foods 2024, 13, 1424\\n6 of 21\\nneeds and goals. In addition, Gacek [56] investigated the determinants of nutritional\\nchoices of Polish handball players; it was found that self-efficacy and the consumption of\\nvegetables are positively correlated, thus indicating their belief in achieving specific goals.\\nEncompassing those associated with both health and sports, it underscores the importance\\nof a rational nutritional model. Thus, the following was hypothesized:\\nH8. Self-efficacy significantly affects automatic precursors.\\nH9. Self-efficacy significantly affects controlled precursors.\\nFor the precursors, TEMPA explains why individuals aspiring to engage in physical\\nactivity may not do so [57]. The framework considers both the automatic reactions triggered\\nby physical activity cues and the inherent desire to avoid exerting too much physical\\neffort. This explains that a person’s movements are swayed by automatic and controlled\\nprecursors. These precursors are triggered by the cues related to the movement, and how\\nindividuals feel about these cues was also said to affect the perceived effort that is needed\\nto perform the movement [58]. For these precursors to be effective and drive an individual\\nto engage in physical activity, the precursors supporting the intention should outweigh\\nthe negative precursors that reduce effort [28]. Ong et al. [24] exhibited that health and\\nwell-being are preceded by a person’s self-efficacy and its increase, which also increases\\ntheir behavioral intention. Thus, the following was theorized:\\nH10. Automatic precursors have a significant direct effect on behavioral intention.\\nH11. Controlled precursors have a significant direct effect on behavioral intention.\\nGoulet et al. [59] investigated the predictors of the use of performance-enhancing\\ndrugs (PED) among young athletes. To which, their study presented that all behavioral\\nfactors had a positive influence on behavioral intention. The results of the study suggested\\nthat psychosocial factors had a significant effect on their use of PEDs. In another study,\\nSamoggia and Rezzaghi [60] investigated the effect of the consumption of products that\\ncontain caffeine on sports performance. Behavioral intention was the dependent variable\\nin the study, presenting a positive outcome from the consumption of the products. Fur-\\nthermore, in a study investigating the role of education on the use of energy supplements,\\nMehri et al. [61] found that behavioral intention had the most significant impact. Educa-\\ntional interventions lowered the behavioral intention of the participants, which ultimately\\ndecreased the intake of the supplements. Relating to the positive results of studies, the\\nstudy hypothesized the following:\\nH12. Behavioral intention has a significant direct effect on the actual consumption of fitness supplements.\\n3. Methodology\\nParticipants\\nThe questionnaire was voluntarily answered by 250 respondents and was collected via\\na purposive sampling technique. The data collection period started in November 2023 and\\nfinished in February 2024, and respondents were composed of individuals residing in the\\nPhilippines who consume any kind of fitness supplement. The responses were gathered\\nthrough Google Forms and were answered in face-to-face interviews among gym-goers.\\nTable 1 shows the descriptive statistics of the demographic profiles of the respondents.\\nA total of 57.6% are male, while 42.4% are female. The respondents’ age ranges were\\n15–24 (74.8%), 25–34 (20.4%), 35–44 (3.6%), 45–54 (0.8%), and 55–64 years old (0.4%). The\\nrespondents’ educational status consists of 1.60% junior high school graduates, 55.2% senior\\nhigh school graduates, 2.8% vocational graduates, 39.6% college graduates, and 0.8% master’s\\ndegree graduates. Moreover, the respondents’ employment status was asked, and it showed\\nthat 70% are students, 2.4% are unemployed, and 27.6% are employed/self-employed.'),\n",
       " Document(metadata={'producer': 'iLovePDF', 'creator': '', 'creationdate': '', 'source': 'rag-dataset/gym supplements/1. Analysis of Actual Fitness Supplement.pdf', 'file_path': 'rag-dataset/gym supplements/1. Analysis of Actual Fitness Supplement.pdf', 'total_pages': 15, 'format': 'PDF 1.7', 'title': '', 'author': '', 'subject': '', 'keywords': '', 'moddate': '2024-10-21T11:38:50+00:00', 'trapped': '', 'modDate': 'D:20241021113850Z', 'creationDate': '', 'page': 6}, page_content='Foods 2024, 13, 1424\\n7 of 21\\nTable 1. Demographic profile.\\nFactor\\nCharacteristics\\nN\\n%\\nsex\\nmale\\n144\\n57.6\\nfemale\\n106\\n42.4\\nage\\n15–24 years old\\n187\\n74.8\\n25–34 years old\\n51\\n20.4\\n35–44 years old\\n9\\n3.6\\n45–54 years old\\n2\\n0.8\\n55–64 years old\\n1\\n0.4\\n64 years old and older\\n0\\n0.0\\neducation attainment\\nelementary\\n0\\n0.0\\njunior high school\\n4\\n1.6\\nsenior high school\\n138\\n55.2\\nvocational\\n7\\n2.8\\ncollege\\n99\\n39.6\\nmaster’s degree\\n2\\n0.8\\nPh.D.\\n0\\n0.0\\nemployment status\\nstudent\\n175\\n70.0\\nunemployed\\n6\\n2.4\\nemployed/self-employed\\n69\\n27.6\\nmonthly income/allowance\\nless than 15,000 Php\\n156\\n58.4\\n15,000–30,000 Php\\n52\\n20.8\\n30,001–45,000 Php\\n22\\n8.8\\n45,001–60,000 Php\\n16\\n6.0\\nmore than 60,000 Php\\n15\\n6.0\\nperiod of consumption of fitness supplements\\nless than 1 year\\n140\\n56.0\\n1–2 years\\n72\\n28.8\\n2–3 years\\n19\\n7.6\\nmore than 3 years\\n19\\n7.6\\nplaces of purchase\\npharmacies\\n26\\n10.4\\nfitness centers\\n14\\n5.6\\nsupplement stores\\n69\\n27.6\\ninternet/online shopping\\n138\\n55.2\\nOther\\n3\\n1.2\\nprice\\nless than 1000 Php\\n99\\n39.6\\n1001–2000 Php\\n101\\n40.4\\ngreater than 2000 Php\\n50\\n20\\nThe survey instrument (Appendix A) encompasses five aspects of respondents’ per-\\nspectives toward fitness supplement consumption. Initially, Table 1 presents the respon-\\ndents’ demographic profile. Consequently, the Theory of Planned Behavior (TPB) frame-\\nwork consisting of three latent variables assessed the respondents’ attitude, subjective\\nnorms, and perceived behavioral control toward their consumption of fitness supplements.\\nFollowed by this, the Health Belief Model (HBM) framework consisting of four latent\\nvariables assessed the perceived effectiveness, perceived benefits, perceived barriers, and\\nhealth motivation of the respondents. The Theory of Effort Minimization in Physical Ac-\\ntivity (TEMPA) framework involves another three latent variables, including self-efficacy,\\nautomatic precursors, and controlled precursors. The final section of the questionnaire\\ngauged the behavioral intention and actual consumption patterns of the respondents. In\\ntotality, the questionnaire comprises 12 latent variables, utilizing a 5-point Likert scale\\nranging from 1 as “Strongly Disagree” to 5 as “Strongly Agree”.\\nTo measure factors affecting actual consumption, the Structural Equation Modeling\\n(SEM) was applied in this study using SMART PLS v3.0. According to Ampofo and\\nAidoo [62], SEM is a prominently used multivariate tool for assessing the direct and\\nindirect relationships between latent variables. The theory simplifies the relationships'),\n",
       " Document(metadata={'producer': 'iLovePDF', 'creator': '', 'creationdate': '', 'source': 'rag-dataset/gym supplements/1. Analysis of Actual Fitness Supplement.pdf', 'file_path': 'rag-dataset/gym supplements/1. Analysis of Actual Fitness Supplement.pdf', 'total_pages': 15, 'format': 'PDF 1.7', 'title': '', 'author': '', 'subject': '', 'keywords': '', 'moddate': '2024-10-21T11:38:50+00:00', 'trapped': '', 'modDate': 'D:20241021113850Z', 'creationDate': '', 'page': 7}, page_content='Foods 2024, 13, 1424\\n8 of 21\\nby constructing a path model to depict the effects resulting from the latent variables.\\nWathanakom [63] utilized SEM to assess the factors influencing Generation Y consumers’\\nvitamin and nutritional supplement purchasing intentions. The outcome of the study\\noutlined the direct and indirect effects of the various factors, and their approach was\\nsaid to be valuable to design campaigns to increase awareness about the significance of\\nvitamins and nutritional supplements, aiding consumers in selecting the suitable supple-\\nments for purchase. In addition, Nystrand and Olsen [64] investigated the intention of\\nconsumption toward functional foods with an extended TPB model; their results enhanced\\ninsight into consumer motivation for functional food consumption and suggested potential\\nbenefits for the food industry. Moreover, the SEM results supported hypotheses related\\nto predictors of intention and consumption frequency for functional foods, highlighting\\nthe importance of self-efficacy, attitudes, social norms, and control beliefs in consumers’\\ndecision-making processes.\\n4. Results\\nThe initial structural equation model (SEM) illustrating the factors influencing the\\nintention to consume fitness supplements is represented in Figure 2. The indicators of\\nlatent variables serve as measures to gauge the validity of the relationship between ob-\\nserved data and the underlying construct. The survey questionnaire allows respondents to\\nself-evaluate the significance of factors that affect their behavioral intention to consume\\nfitness supplements. This model indicates whether an indicator affects and influences an\\nindividual’s intention.\\n \\nFigure 2. Initial Structural Equation Model to assess behavioral intention and actual consumption of\\nfitness supplements.\\nTable 2 displays the reliability and validity values for the final model. Not all factor\\nloadings sufficiently capture the latent variability. Therefore, items with initial loading'),\n",
       " Document(metadata={'producer': 'iLovePDF', 'creator': '', 'creationdate': '', 'source': 'rag-dataset/gym supplements/1. Analysis of Actual Fitness Supplement.pdf', 'file_path': 'rag-dataset/gym supplements/1. Analysis of Actual Fitness Supplement.pdf', 'total_pages': 15, 'format': 'PDF 1.7', 'title': '', 'author': '', 'subject': '', 'keywords': '', 'moddate': '2024-10-21T11:38:50+00:00', 'trapped': '', 'modDate': 'D:20241021113850Z', 'creationDate': '', 'page': 8}, page_content='Foods 2024, 13, 1424\\n9 of 21\\nvalues that were less than 0.7 were extracted from the final loading. Chronbach’s apla\\n(α), composite reliability (CR), and the average variance extracted (AVE) are then used to\\nmeasure the internal consistency, reliability, and validity. Additionally, the cutoff value for\\nthe convergent validity of the AVE should be higher than 0.5. All values made the cutoff,\\nwhich indicates consistency and reliability across the test item sample. This implies that\\neach construct from this model may be classified as valid and reliable. Presented in Figure 3\\nis the final SEM for this study.\\nTable 2. Lower-order construct validity and reliability.\\nConstruct\\nItems\\nMean\\nStD\\nInitial IL\\nFinal FL\\nCA\\nCR\\nAVE\\nattitude (A)\\nA1\\n4.2\\n0.8\\n0.8\\n0.8\\n0.8\\n0.9\\n0.6\\nA2\\n3.6\\n1.1\\n0.8\\n0.8\\nA3\\n3.9\\n1.0\\n0.8\\n0.8\\nsubjective norms (SN)\\nSN1\\n3.3\\n1.2\\n0.5\\n-\\n-\\n-\\n-\\nSN2\\n3.1\\n1.2\\n0.6\\n-\\nSN3\\n3.8\\n1.0\\n0.8\\n-\\nSN4\\n3.7\\n1.1\\n0.8\\n-\\nperceived behavioral\\ncontrol (PBC)\\nPBC1\\n4.5\\n0.8\\n0.7\\n0.7\\n0.8\\n0.9\\n0.6\\nPBC2\\n4.3\\n0.9\\n0.8\\n0.8\\nPBC3\\n4.2\\n0.9\\n0.8\\n0.8\\nPBC4\\n4.3\\n0.9\\n0.8\\n0.8\\nperceived\\neffectiveness (PE)\\nPE1\\n4.4\\n0.7\\n0.8\\n-\\n-\\n-\\n-\\nPE2\\n3.2\\n1.2\\n0.6\\n-\\nPE3\\n3.4\\n1.1\\n0.7\\n-\\nPE4\\n3.7\\n1.1\\n0.7\\n-\\nperceived benefits (PBE)\\nPBE1\\n3.3\\n1.1\\n0.7\\n-\\nPBE2\\n3.8\\n1.0\\n0.8\\n-\\n-\\n-\\n-\\nPBE3\\n3.8\\n1.0\\n0.8\\n-\\nPBE4\\n4.2\\n0.9\\n0.8\\n-\\nperceived barriers (PBA)\\nPBA1\\n2.8\\n1.3\\n0.5\\n-\\n-\\n-\\n-\\nPBA2\\n3.7\\n1.1\\n0.2\\n-\\nPBA3\\n3.0\\n1.4\\n0.5\\n-\\nPBA4\\n2.4\\n1.3\\n0.9\\n-\\n-\\n-\\n-\\nPBA5\\n2.0\\n1.2\\n0.9\\n-\\nhealth motivation (HM)\\nHM1\\n3.8\\n1.0\\n0.7\\n-\\n0.8\\n0.9\\n0.7\\nHM2\\n4.1\\n1.1\\n0.7\\n-\\n-\\n-\\n-\\nHM3\\n4.2\\n0.9\\n0.8\\n0.8\\nHM4\\n4.2\\n0.9\\n0.8\\n0.8\\n-\\n-\\n-\\nHM5\\n4.2\\n0.9\\n0.8\\n0.8\\nself-efficacy (SE)\\nSE1\\n4.2\\n0.9\\n0.9\\n0.9\\n0.9\\n0.9\\n0.6\\nSE2\\n4.2\\n0.9\\n0.8\\n0.8\\n-\\n-\\n-\\nSE3\\n4.2\\n0.9\\n0.8\\n0.8\\n-\\n-\\n-\\nSE4\\n4.2\\n0.9\\n0.8\\n0.8\\n-\\n-\\n-\\nSE5\\n4.1\\n0.9\\n0.7\\n0.7\\nautomatic\\nprecursors (AP)\\nAP1\\n4.2\\n0.8\\n0.9\\n0.9\\n0.8\\n0.9\\n0.7\\nAP2\\n4.0\\n1.0\\n0.8\\n0.8\\n-\\n-\\n-\\nAP3\\n4.0\\n0.9\\n0.9\\n0.9\\ncontrolled\\nprecursors (CP)\\nCP1\\n4.4\\n0.8\\n0.7\\n0.7\\n0.8\\n0.9\\n0.6\\nCP2\\n4.4\\n0.8\\n0.8\\n0.8\\n-\\n-\\n-\\nCP3\\n4.3\\n0.8\\n0.8\\n0.8\\n-\\n-\\n-\\nCP4\\n4.1\\n0.9\\n0.8\\n0.8\\n-\\n-\\n-\\nCP5\\n4.6\\n0.7\\n0.7\\n0.7'),\n",
       " Document(metadata={'producer': 'iLovePDF', 'creator': '', 'creationdate': '', 'source': 'rag-dataset/gym supplements/1. Analysis of Actual Fitness Supplement.pdf', 'file_path': 'rag-dataset/gym supplements/1. Analysis of Actual Fitness Supplement.pdf', 'total_pages': 15, 'format': 'PDF 1.7', 'title': '', 'author': '', 'subject': '', 'keywords': '', 'moddate': '2024-10-21T11:38:50+00:00', 'trapped': '', 'modDate': 'D:20241021113850Z', 'creationDate': '', 'page': 9}, page_content='Foods 2024, 13, 1424\\n10 of 21\\nTable 2. Cont.\\nConstruct\\nItems\\nMean\\nStD\\nInitial IL\\nFinal FL\\nCA\\nCR\\nAVE\\nbehavioral intention (BI)\\nBI1\\n3.7\\n1.2\\n0.8\\n0.8\\n0.8\\n0.9\\n0.6\\nBI2\\n4.0\\n1.0\\n0.8\\n0.8\\n-\\n-\\n-\\nBI3\\n4.3\\n0.8\\n0.7\\n0.7\\n-\\n-\\n-\\nBI4\\n4.1\\n0.9\\n0.8\\n0.8\\nactual consumption (AC)\\nAC1\\n4.2\\n0.9\\n0.8\\n0.8\\n0.8\\n0.9\\n0.7\\nAC2\\n4.1\\n0.9\\n0.8\\n0.8\\n-\\n-\\n-\\nAC3\\n4.1\\n0.9\\n0.8\\n0.8\\n-\\n-\\n-\\nAC4\\n4.2\\n0.8\\n0.8\\n0.8\\nNote: StD—standard deviation; AVE—average variance extracted; CA—Chronbach’s alpha; CR—composite\\nreliability; IL—initial loading; FL—final loading; A—attitude; SN—subjective norms; PBC—perceived behav-\\nioral control; PE—perceived effectiveness; PBE—perceived benefits; PBA—perceived barriers; HM—health\\nmotivation; SE—self-efficacy; AP—automatic precursors; CP—controlled precursors; BI—behavioral intention;\\nAC—actual consumption.\\n \\nFigure 3. Final structural equation model.\\nIn Table 3, the discriminant validity includes both the Fornell–Larcker criterion and the\\nheterotrait–monotrait ratio. It illustrates the correlation between each latent variable and\\nevaluates the structural model [65]. As suggested, the threshold value for the HTMT ratio\\nshould be less than 1 (<1) indicating a correlation between two latent variables. However,\\nif the ratio is greater than 1, a lack of discriminant validity is evident. Hence, the authors\\nrecommend a HTMT ratio lower than 0.85 or 0.90 for constructs to avoid overlap. As shown\\nin Table 4, the HTMT ratio fell within the desired threshold.\\nTable 4 shows the model fit indices conducted to illustrate the proposed model’s\\nreliability. The table indicates that all parameter estimates met the suggested cutoff, rep-\\nresenting the suitability of the suggested model. The values of d_ULS and d_G were\\n1.205 and 5.316, respectively. With this, the results reflected excellent batch between the\\ndata and measurement model, indicating that the model’s quality is suitable to explain the\\ndata (Table 5).'),\n",
       " Document(metadata={'producer': 'iLovePDF', 'creator': '', 'creationdate': '', 'source': 'rag-dataset/gym supplements/1. Analysis of Actual Fitness Supplement.pdf', 'file_path': 'rag-dataset/gym supplements/1. Analysis of Actual Fitness Supplement.pdf', 'total_pages': 15, 'format': 'PDF 1.7', 'title': '', 'author': '', 'subject': '', 'keywords': '', 'moddate': '2024-10-21T11:38:50+00:00', 'trapped': '', 'modDate': 'D:20241021113850Z', 'creationDate': '', 'page': 10}, page_content='Foods 2024, 13, 1424\\n11 of 21\\nTable 3. Discriminant validity.\\nFornell–Lacker Criterion\\nAP\\nAC\\nA\\nBI\\nCP\\nHM\\nPBC\\nSE\\nAP\\n0.846\\n-\\n-\\n-\\n-\\n-\\n-\\n-\\nAC\\n0.691\\n0.829\\n-\\n-\\n-\\n-\\n-\\n-\\nA\\n0.591\\n0.614\\n0.795\\n-\\n-\\n-\\n-\\n-\\nBI\\n0.634\\n0.747\\n0.66\\n0.777\\n-\\n-\\n-\\n-\\nCP\\n0.666\\n0.741\\n0.587\\n0.682\\n0.762\\n-\\n-\\n-\\nHM\\n0.615\\n0.738\\n0.583\\n0.669\\n0.647\\n0.825\\n-\\n-\\nPBC\\n0.533\\n0.565\\n0.595\\n0.565\\n0.563\\n0.536\\n0.784\\n-\\nSE\\n0.717\\n0.727\\n0.656\\n0.73\\n0.705\\n0.676\\n0.597\\n0.799\\nHeterotrait-Monotrait Ratio\\nAP\\nAC\\nA\\nBI\\nCP\\nHM\\nPBC\\nSE\\nAP\\n-\\n-\\n-\\n-\\n-\\n-\\n-\\n-\\nAC\\n0.837\\n-\\n-\\n-\\n-\\n-\\n-\\n-\\nA\\n0.72\\n0.722\\n-\\n-\\n-\\n-\\n-\\n-\\nBI\\n0.804\\n0.812\\n0.809\\n-\\n-\\n-\\n-\\n-\\nCP\\n0.804\\n0.819\\n0.68\\n0.836\\n-\\n-\\n-\\n-\\nHM\\n0.776\\n0.811\\n0.709\\n0.843\\n0.795\\n-\\n-\\n-\\nPBC\\n0.643\\n0.662\\n0.687\\n0.697\\n0.684\\n0.655\\n-\\n-\\nSE\\n0.844\\n0.848\\n0.767\\n0.771\\n0.822\\n0.82\\n0.697\\n-\\nTable 4. Model fit indices.\\nParameters\\nEstimates\\nSuggested Cutoff\\nReference\\nSRMR\\n0.068\\n<0.08\\nHu and Bentler [66]\\nChi-Square\\n3.400\\n<5.00\\nHooper et al. [67]\\nNFI\\n0.921\\n>0.90\\nBaumgartner and Homburg [68]\\nTable 5. Hypothesis results.\\nHypothesis\\nRelationship\\nβ-Values\\nρ-Values\\nDecision\\n1\\nattitude →behavioral intention\\n0.257\\n<0.001\\naccept\\n2\\nsubjective norms →behavioral intention\\n0.021\\n0.688\\nreject\\n3\\nperceived behavioral control →behavioral intention\\n0.193\\n0.004\\naccept\\n4\\npercevied effectiveness →behavioral intention\\n−0.057\\n0.429\\nreject\\n5\\nhealth motivation →behavioral intention\\n0.307\\n<0.001\\naccept\\n6\\nperceived benefits →behavioral intention\\n0.087\\n0.214\\nreject\\n7\\nperceived barriers →behavioral intention\\n−0.018\\n0.717\\nreject\\n8\\nself-efficacy →automatic precursors\\n0.717\\n<0.001\\naccept\\n9\\nself-efficay →controlled precursors\\n0.705\\n<0.001\\naccept\\n10\\nautomatic precursors →behavioral intention\\n0.107\\n0.206\\nreject\\n11\\ncontrolled precursors →behavioral intention\\n0.272\\n<0.001\\naccept\\n12\\nbehavioral intention →actual consumption\\n0.747\\n<0.001\\naccept\\n5. Discussion\\nFitness supplements are products designed to complement a person’s diet and exercise\\nroutine, with the aim of enhancing various aspects of health, fitness, or performance.\\nThe purpose of this study was to investigate the factors that influence the consumption\\nof fitness supplements. A total of 250 individuals answered the online questionnaire,\\nwhich accounted for 12 latent variables that were integrated from the Theory of Planned\\nBehavior (TPB), the Health Belief Motivation (HBM) framework, and the Theory of Effort\\nMinimization in Physical Activity (TEMPA) framework.\\nAttitude was seen to have a significant effect on behavioral intention to consume\\nfitness supplements (β: 0.257; p < 0.001). Based on the established constructs, consumers'),\n",
       " Document(metadata={'producer': 'iLovePDF', 'creator': '', 'creationdate': '', 'source': 'rag-dataset/gym supplements/1. Analysis of Actual Fitness Supplement.pdf', 'file_path': 'rag-dataset/gym supplements/1. Analysis of Actual Fitness Supplement.pdf', 'total_pages': 15, 'format': 'PDF 1.7', 'title': '', 'author': '', 'subject': '', 'keywords': '', 'moddate': '2024-10-21T11:38:50+00:00', 'trapped': '', 'modDate': 'D:20241021113850Z', 'creationDate': '', 'page': 11}, page_content='Foods 2024, 13, 1424\\n12 of 21\\nfind spending money on fitness supplements worthwhile and useful. This implies that\\nconsumers benefit from investing in fitness supplements and emphasize the importance\\nand value of them. This is similar to the findings in the study by Liu [34], which highlighted\\nattitude as a significant factor affecting the intention to consume supplements because\\nconsumers see purchasing supplements as a sensible and helpful choice for them. In\\nanother study, Wathanakom [66] showed that individuals who perceive gym supplements\\npositively or associate them with health benefits or improved fitness are more inclined to\\nconsider using them.\\nSubjective norms were observed to have an insignificant impact on the behavioral\\nintention to consume fitness supplements (β: 0.021; p = 0.688). This indicates that the\\ndecision of individuals to purchase and consume fitness supplements is a choice based on\\ntheir own will and does not adhere to, nor is it influenced by, the standards or insights\\nof other individuals, whether it be people important to them or celebrities who endorse\\nthe supplements. This result is aligned with the findings of Kitcharoen and Vongurai [69],\\nwhose findings indicate that subjective norms did not have any direct influence on be-\\nhavioral intention to consume dietary supplements. It underscored how international\\ncompanies appoint social media influencers as their brand ambassadors in the hopes that\\nthese brand ambassadors will foster a positive outlook on dietary supplements, supposedly\\nincreasing an individual’s inclination to use dietary supplements. However, it contrasts\\nwith the studies by Alami [32], which underscored that the influence of friends, parents,\\nand teachers was significant in dietary behavior toward iron and vitamin D, as they served\\nas role models and provided social support. Moreover, Haubenstricker et al. [34], found\\nthat bodybuilders in in-season competitions are influenced by those around them, including\\ntrainers, workout partners, and social media influencers.\\nMeanwhile, perceived behavioral control significantly affected behavioral intention,\\nas well (β: 0.193; p = 0.004). Consumers exhibit a sense of control and ease over the con-\\nsumption of fitness supplements, viewing it as manageable and straightforward. Moreover,\\nthis indicates the voluntary nature of this choice, highlighting the individual’s sense of\\ncontrol and decision-making. This is consistent with the findings of Chen et al. [36], which\\nfound that perceived behavioral control was a significant driver in the intention to consume\\nvitamin D supplements, because individuals are more likely to engage in the consumption\\nof supplements if they find it easy to perform, and that past experiences with supplemen-\\ntation shapes perceived behavioral control, where positive experiences boost confidence\\nand negative ones create doubts. Additionally, Lino [35] also found that perceived be-\\nhavioral control had a significant impact on the intention to use dietary supplements; the\\nfindings indicated that individuals with a greater sense of control over the use of dietary\\nsupplements demonstrated stronger intentions to use them. This suggests that individuals\\nwho felt more in control of their treatment were more likely to express positive beliefs\\nand intentions regarding the use of dietary supplements. This is contrary to the findings\\nof Al-Swidi et al. [70], whose results indicated that perceived behavioral control had no\\nsignificant effect on the purchase intention of organic foods; the lack of significance of\\nperceived behavioral control in predicting organic food buying intentions in this study is\\nattributed to a combination of cultural factors, dependence on subjective norms, and the\\nemerging nature of the concept in the studied population.\\nIn this study, perceived effectiveness was found to have an insignificant effect on\\nbehavioral intention (β: −0.057; p = 0.429). Based on the constructs, this indicates that\\nconsumers do not deem fitness supplements as mandatory. The responses implied a\\nfrail view regarding the importance of using supplements for well-being, energy levels,\\nand daily performance. These findings are similar to Burke and Manore [71], which\\nstated that individuals whose diets provide adequate energy and nutrients can support\\nexercise performance and maintain nutritional intake without the need for supplements.\\nFurthermore, Jordan et al. [72] stated that micronutrient supplements are not mandatory\\nfor athletes who consume nutrient-dense food that provide high levels of energy, further\\nhighlighting the optionality of supplements. These results contrast those of Bussicott'),\n",
       " Document(metadata={'producer': 'iLovePDF', 'creator': '', 'creationdate': '', 'source': 'rag-dataset/gym supplements/1. Analysis of Actual Fitness Supplement.pdf', 'file_path': 'rag-dataset/gym supplements/1. Analysis of Actual Fitness Supplement.pdf', 'total_pages': 15, 'format': 'PDF 1.7', 'title': '', 'author': '', 'subject': '', 'keywords': '', 'moddate': '2024-10-21T11:38:50+00:00', 'trapped': '', 'modDate': 'D:20241021113850Z', 'creationDate': '', 'page': 12}, page_content='Foods 2024, 13, 1424\\n13 of 21\\net al. [73], who found that perceived effectiveness played a significant effect in shaping the\\nusage patterns of complementary medicine (CM) products. The reliance on information\\nfrom family and friends, coupled with the occurrence of adverse effects in more than\\nhalf of the participants, underscores the impact of perceived effectiveness on consumer\\nchoices. Despite potential risks and limited clinical evidence, CM weight-loss products\\nwere perceived as accessible, safe, and cost-effective.\\nPerceived benefits were seen to have an insignificant effect on behavioral intention\\n(β: −0.018; p = 0.717). Thus, respondents do not perceive the consistent intake of gym\\nsupplements as a preventive measure against health-related issues, which aligns with how\\nconsuming these supplements does not aid in building good health or contribute to an\\nindividual’s well-being. These findings are consistent with the study by Kiely et al. [74],\\nwhich investigated the health behaviors of individuals during the pandemic. It was found\\nthat perceived benefit had no statistical significance toward a change in exercise behavior;\\nindividuals’ perceptions of the benefits of exercise did not strongly correlate with their\\nactual exercise behavior changes. This implies that, at least in the context of the studied\\npopulation during the pandemic, people were more influenced by perceived barriers than\\nby their beliefs in the positive outcomes of exercise. Similarly, Rodrigues [58] stated that\\nindividuals consumed fitness supplements with the goal of gaining muscle, improving\\nrecovery, and enhancing performance. None have a correlation with health, as fitness\\nsupplements are not mandatory and are not endorsed to aid in the treatment of any health-\\nrelated issue. These results contrast with the findings of Ghai and Sharma [75], who\\nfound that perceived benefits, alongside trust, shaped satisfaction and the intention to\\npurchase organic food. Consumers who perceive benefits and have trust in organic foods\\nare more likely to express a willingness to pay premium prices and experience higher\\nsatisfaction levels. This is similar with the findings of Hoseini et al. [76], in which perceived\\nbenefits significantly affected the consumption of dietary supplements, with individuals\\nincorporating these products into their routines for various reasons. The desire for fitness,\\nphysical beauty, and skin health, alongside the intention to fill nutritional gaps and alleviate\\nthe side effects of micronutrient deficiencies, drives individuals to use supplements.\\nMoreover, health motivation significantly affected behavioral intention (β: 0.307;\\np < 0.001). Based on the constructs, respondents consume fitness supplements with mul-\\ntiple goals in mind, including increasing muscle mass, enhancing performance in fitness\\nactivities, meeting nutritional needs, and supporting the maintenance or initiation of a\\nhealthy lifestyle. They view fitness supplements as versatile tools with a range of posi-\\ntive impacts. The diverse reasons for consumption suggest a comprehensive approach\\nto health, encompassing not only physical well-being but also performance and lifestyle\\nconsiderations. Additionally, they see fitness supplements as instrumental in achieving\\nvarious health-related objectives, from muscle building and performance enhancement to\\nnutritional support and the promotion of a sustainable healthy lifestyle. This is aligned\\nwith the results of Sirico [46], which found that the enhancement of sport performance\\nand overall health and wellness are primary motivations for supplement use. Addition-\\nally, Kovács’ [44] study discovered that health preservation and physical well-being were\\nthe primary reasons for taking food supplements due to individual motivations, psy-\\nchological factors, and the recognition of the interconnectedness between nutrition and\\noverall well-being.\\nTehrani [77] found that diabetes patients with a history of CAM use demonstrated\\nfewer barriers to engaging in diabetes self-care behaviors. Therefore, mitigating perceived\\nbarriers increases the probability of an individual to engage in certain behavior. In relation\\nto the study, perceived barriers were seen to have an insignificant impact on behavioral\\nintention (β: −0.018; p = 0.717). The consumers do not express challenges related to ac-\\nquiring and consuming fitness supplements, specifically in terms of distance, cost, limited\\navailability, lack of motivation, and embarrassment as barriers. This indicates that con-\\nsumers have easy access to affordable fitness supplements, either due to the proximity\\nof stores, reasonable pricing, or the availability of cost-effective alternatives. Addition-'),\n",
       " Document(metadata={'producer': 'iLovePDF', 'creator': '', 'creationdate': '', 'source': 'rag-dataset/gym supplements/1. Analysis of Actual Fitness Supplement.pdf', 'file_path': 'rag-dataset/gym supplements/1. Analysis of Actual Fitness Supplement.pdf', 'total_pages': 15, 'format': 'PDF 1.7', 'title': '', 'author': '', 'subject': '', 'keywords': '', 'moddate': '2024-10-21T11:38:50+00:00', 'trapped': '', 'modDate': 'D:20241021113850Z', 'creationDate': '', 'page': 13}, page_content='Foods 2024, 13, 1424\\n14 of 21\\nally, they feel confident and motivated in their health choices, leading to a more open\\nand positive attitude toward supplement use. This result is consistent with the study by\\nFebian et al. [78], which found that individuals are inclined to consume functional food if\\nthey anticipate fewer barriers, such as difficult preparation and an unpalatable scent.\\nSelf-efficacy was seen to have a significant impact on automatic (β: 0.717; p < 0.001)\\nand controlled precursors (β: 0.705; p < 0.001). Fitness supplements aid in their confidence\\nin different aspects of exercise and achieving their fitness goals. They contribute positively,\\nwhich leads to greater adherence to routines, increased motivation, and overall fitness\\noutcomes. This is consistent with the findings of Zhao et al. [79], which were that self-\\nefficacy influences exercise behavior by boosting confidence in athletic abilities. Higher\\nexercise self-efficacy contributes to a more enjoyable and enduring engagement in physical\\nactivity, fostering a lifelong habit of sports. This has also verified the results of Gacek [56],\\nwhich revealed that individuals with higher self-efficacy engaged in behaviors that promote\\nhealth and enhance physical fitness, and they engaged less in behaviors that are detrimental\\nto their health, such as drinking alcoholic beverages.\\nThe results revealed that controlled precursors have a significant effect toward be-\\nhavioral intention (β: 0.272; p < 0.001), which based on the indicators, were voluntary\\nevaluation of the benefits of the supplements, matching their consumption with proper\\ndiet and exercise, recognizing their usefulness, and acknowledging the value of a healthy\\nlifestyle affect consumers’ intent to engage in activities that are aligned with fitness. This\\nimplies that controlled precursors prompt their intention to consume supplements suggest-\\ning that the precursors outweigh the impact of opposing processes that promote minimal\\neffort [28]. Moreover, controlled precursors are classified as advanced cognitive func-\\ntions, including reflective reasoning, that play a significant role in the decision-making\\nprocess [80]. This indicates that respondents evaluate activities based on the outcomes that\\ncome with performing the activity. This is evident in the study by Jagim et al. [81], which\\nfound that individuals consume pre-workout, which generally contained beta-alanine,\\ncaffeine, and creatine, to make workouts easier and improve their performance.\\nAutomatic precursors were observed to have an insignificant effect on behavioral\\nintention (β: 0.107; p = 0.206). These results suggest that the involuntary cues have little\\ninfluence over decision-making, indicating that respondents rely on conscious evaluation\\nand deliberation when considering whether to consume fitness supplements. They are\\nmore likely to weigh the pros and cons and consider their goals for their consumption [82].\\nThese results are inconsistent with the studies by Rodrigues [58], which found that past\\nbehaviors and autonomous motivation fostered by satisfaction and enjoyment were seen\\nto be significant predictors of future intentions to exercise. This suggests that habitual\\nactions influenced by past experiences may overshadow intentions in predicting future\\nbehavior. The insignificance of automatic precursors is consistent with the nature of\\nthis study because the decision to consume supplements is optional and heavily relies\\non the conscious evaluation aligned with an individual’s personal goals and nutritional\\nneeds. Based on the indicators, the findings depicted how habits and satisfaction from past\\nbehaviors are overshadowed by conscious considerations and external influences.\\nLastly, with behavioral intention as the mediating factor, it was seen to have a signifi-\\ncant role in actual consumption (β: 0.747; p < 0.001); respondents express the willingness to\\ncontinue purchasing fitness supplements and plan to use them to improve their health in\\nthe coming periods. Additionally, they plan to pay attention to the supplements they will\\nconsume and recommend to others. This indicates a positive perception of supplements,\\nwhich is a probable basis for the intention to continuously consume them for improving\\ntheir fitness and endorsing others to consume them, as well. This is consistent with the\\nresults of Nystrand and Olsen [64], which were that consumers’ behavioral intention to\\nconsume functional foods was shaped by factors such as attitude, self-efficacy, and sub-\\njective norms. This suggests that individuals are motivated to consume certain products,\\nas long as they perceive themselves as capable of doing so, and that social pressure from\\nindividuals of importance plays a pivotal role, as well. Moreover, behavioral intention'),\n",
       " Document(metadata={'producer': 'iLovePDF', 'creator': '', 'creationdate': '', 'source': 'rag-dataset/gym supplements/1. Analysis of Actual Fitness Supplement.pdf', 'file_path': 'rag-dataset/gym supplements/1. Analysis of Actual Fitness Supplement.pdf', 'total_pages': 15, 'format': 'PDF 1.7', 'title': '', 'author': '', 'subject': '', 'keywords': '', 'moddate': '2024-10-21T11:38:50+00:00', 'trapped': '', 'modDate': 'D:20241021113850Z', 'creationDate': '', 'page': 14}, page_content='Foods 2024, 13, 1424\\n15 of 21\\ntoward food supplement safety was shaped by health motivation and attitude in the study\\nby Bayır [83], indicating that positive attitude and concerns about personal health leads to\\nthe consumption of supplements, thereby predicting that supplement use will increase in\\nthe future.\\n6. Conclusions and Implications\\nThe study contributes to existing theories, such as the Theory of Planned Behavior\\n(TPB), Health Belief Motivation (HBM), and Theory of Effort Minimization in Physical\\nActivity (TEMPA), by providing empirical evidence of the factors influencing consumers’\\nintention to consume fitness supplements. This expands the understanding of how psycho-\\nlogical factors shape consumer behavior. The study highlights the importance of health\\nmotivation as the central driver of behavioral intention, suggesting that health-related\\ngoals play a significant role in shaping consumer decisions regarding supplement usage.\\nAdditionally, the study underscores the complexity of consumer decision-making processes,\\ndemonstrating the interplay between cognitive evaluation, self-efficacy, and automatic\\nprecursors in influencing behavioral intention. Through theoretical constructs discussed,\\nthe study provides a foundation for further research into the underlying mechanisms\\ndriving consumer behavior in the fitness supplement market, ultimately advancing the\\ntheoretical understanding of consumer decision-making.\\nThe findings of the study can be significant for the fitness supplement industry. Firstly,\\ncompanies should prioritize marketing efforts that highlight the benefits and ease of use of\\ntheir products, emphasizing factors such as effectiveness, convenience, and affordability to\\nappeal to consumers. Secondly, understanding the strong influence of health motivation,\\ncompanies can tailor their product offerings and marketing to align with consumers’ health\\ngoals and aspirations, thus enhancing the perceived value of their supplements. Thirdly,\\neducational interventions are crucial to address any misconceptions regarding supplement\\nusage, providing evidence-based information to build consumer trust and confidence.\\nAdditionally, companies can invest in strategies to enhance consumer self-efficacy, such\\nas providing resources and support to help consumers make informed decisions about\\nsupplement usage. Overall, by focusing on these managerial implications, companies can\\nbetter meet the needs and preferences of consumers, driving sales and fostering long-term\\nbrand loyalty in the competitive fitness supplement market. Future research may opt to\\nconsider more respondents as gaining more diverse demographic context, insights, and\\nperception, which may lead to other findings.\\nAuthor Contributions: Conceptualization, P.R.E., A.K.S.O., J.D.G., M.J.J.G. and E.S.C.; methodology,\\nP.R.E., A.K.S.O., J.D.G., M.J.J.G. and E.S.C.; software, P.R.E., A.K.S.O., J.D.G. and M.J.J.G.; validation,\\nP.R.E., A.K.S.O., J.D.G., M.J.J.G. and E.S.C.; formal analysis, P.R.E. and A.K.S.O.; investigation, P.R.E.,\\nA.K.S.O. and J.D.G.; resources, P.R.E., A.K.S.O., J.D.G., M.J.J.G. and E.S.C.; data curation, P.R.E.,\\nA.K.S.O. and J.D.G.; writing—original draft preparation P.R.E., A.K.S.O. and J.D.G.; writing—review\\nand editing, P.R.E., A.K.S.O., J.D.G., M.J.J.G. and E.S.C.; visualization, P.R.E., A.K.S.O., J.D.G., M.J.J.G.\\nand E.S.C.; supervision, J.D.G. and A.K.S.O.; project administration, J.D.G., A.K.S.O. and M.J.J.G.;\\nfunding acquisition, J.D.G. and A.K.S.O. All authors have read and agreed to the published version\\nof the manuscript.\\nFunding: This research was funded by Mapua University Directed Research for Innovation and\\nValue Enhancement (DRIVE).\\nInstitutional Review Board Statement: This study was approved by the Mapua University Research\\nEthics Committees (FM-RC-23-01-99).\\nInformed Consent Statement: Informed consent was obtained from all subjects involved in this\\nstudy (FM-RC-23-02-99).\\nData Availability Statement: The data presented in this study are available on request from the\\ncorresponding author. The data are not publicly available due to privacy restrictions.')]"
      ]
     },
     "execution_count": 4,
     "metadata": {},
     "output_type": "execute_result"
    }
   ],
   "source": [
    "from langchain_community.document_loaders import PyMuPDFLoader\n",
    "import os\n",
    "\n",
    "loader = PyMuPDFLoader(\"rag-dataset/gym supplements/1. Analysis of Actual Fitness Supplement.pdf\")\n",
    "loader.load() "
   ]
  },
  {
   "cell_type": "code",
   "execution_count": 5,
   "id": "8fdae653",
   "metadata": {},
   "outputs": [],
   "source": [
    "pdfs = []\n",
    "for root, dirs, files in os.walk(\"rag-dataset\"):\n",
    "    for file in files:\n",
    "        if file.endswith(\".pdf\"):\n",
    "            pdfs.append(os.path.join(root, file))"
   ]
  },
  {
   "cell_type": "code",
   "execution_count": 6,
   "id": "357bdf5e",
   "metadata": {},
   "outputs": [
    {
     "data": {
      "text/plain": [
       "['rag-dataset\\\\gym supplements\\\\1. Analysis of Actual Fitness Supplement.pdf',\n",
       " 'rag-dataset\\\\gym supplements\\\\2. High Prevalence of Supplement Intake.pdf',\n",
       " 'rag-dataset\\\\health supplements\\\\1. dietary supplements - for whom.pdf',\n",
       " 'rag-dataset\\\\health supplements\\\\2. Nutraceuticals research.pdf',\n",
       " 'rag-dataset\\\\health supplements\\\\3.health_supplements_side_effects.pdf']"
      ]
     },
     "execution_count": 6,
     "metadata": {},
     "output_type": "execute_result"
    }
   ],
   "source": [
    "pdfs "
   ]
  },
  {
   "cell_type": "code",
   "execution_count": 7,
   "id": "63c4873e",
   "metadata": {},
   "outputs": [],
   "source": [
    "docs = []\n",
    "for pdf in pdfs:\n",
    "    loader = PyMuPDFLoader(pdf)\n",
    "    temp = loader.load()\n",
    "    docs.extend(temp)"
   ]
  },
  {
   "cell_type": "code",
   "execution_count": 8,
   "id": "3c868e60",
   "metadata": {},
   "outputs": [
    {
     "data": {
      "text/plain": [
       "64"
      ]
     },
     "execution_count": 8,
     "metadata": {},
     "output_type": "execute_result"
    }
   ],
   "source": [
    "len(docs)"
   ]
  },
  {
   "cell_type": "code",
   "execution_count": 9,
   "id": "cd49ac58",
   "metadata": {},
   "outputs": [
    {
     "data": {
      "text/plain": [
       "[Document(metadata={'producer': 'iLovePDF', 'creator': '', 'creationdate': '', 'source': 'rag-dataset\\\\gym supplements\\\\1. Analysis of Actual Fitness Supplement.pdf', 'file_path': 'rag-dataset\\\\gym supplements\\\\1. Analysis of Actual Fitness Supplement.pdf', 'total_pages': 15, 'format': 'PDF 1.7', 'title': '', 'author': '', 'subject': '', 'keywords': '', 'moddate': '2024-10-21T11:38:50+00:00', 'trapped': '', 'modDate': 'D:20241021113850Z', 'creationDate': '', 'page': 0}, page_content='Citation: Espeño, P.R.; Ong, A.K.S.;\\nGerman, J.D.; Gumasing, M.J.J.; Casas,\\nE.S. Analysis of Actual Fitness\\nSupplement Consumption among\\nHealth and Fitness Enthusiasts. Foods\\n2024, 13, 1424. https://doi.org/\\n10.3390/foods13091424\\nAcademic Editors: Ilija Djekic\\nand Nada Smigic\\nReceived: 30 March 2024\\nRevised: 15 April 2024\\nAccepted: 18 April 2024\\nPublished: 6 May 2024\\nCopyright: © 2024 by the authors.\\nLicensee MDPI, Basel, Switzerland.\\nThis article is an open access article\\ndistributed\\nunder\\nthe\\nterms\\nand\\nconditions of the Creative Commons\\nAttribution (CC BY) license (https://\\ncreativecommons.org/licenses/by/\\n4.0/).\\nfoods\\nArticle\\nAnalysis of Actual Fitness Supplement Consumption among\\nHealth and Fitness Enthusiasts\\nPaolo Renzo Espeño 1, Ardvin Kester S. Ong 1,2,*\\n, Josephine D. German 1\\n, Ma. Janice J. Gumasing 3\\nand Ethan S. Casas 1\\n1\\nSchool of Industrial Engineering and Engineering Management, Mapúa University, 658 Muralla St.,\\nIntramuros, Manila 1002, Philippines\\n2\\nE.T. Yuchengo School of Business, Mapúa University, 1191 Pablo Ocampo Sr. Ext., Makati 1204, Philippines\\n3\\nDepartment of Industrial and Systems Engineering, Gokongwei College of Engineering,\\nDe La Salle University, 2401 Taft Ave., Manila 1007, Philippines\\n*\\nCorrespondence: aksong@mapua.edu.ph; Tel.: +63-(2)8247-5000 (ext. 6202)\\nAbstract: With the rising popularity of fitness supplements, understanding the factors driving their\\nconsumption behaviors is crucial. This study investigated the actual consumption of fitness supple-\\nments utilizing the Theory of Planned Behavior (TPB), Health Belief Model (HBM), and the Theory\\nof Effort Minimization in Physical Activity (TEMPA) frameworks. The TPB provided insights into\\nhow attitudes, subjective norms, and perceived behavioral control influence individuals’ intentions\\nto consume fitness supplements. Additionally, the HBM sheds light on perceived effectiveness,\\nbenefits, barriers, and health motivation related to supplement consumption. Integrating the TEMPA\\nframework further investigated the role of effort minimization in physical activity contexts. Through\\nan online questionnaire, data were collected from a sample of 250 fitness supplement-consuming\\nrespondents. SEM analysis revealed significant associations between behavioral intentions and\\nattitudes, perceived behavioral control, health motivation, and controlled precursors. However, it\\nwas seen that subjective norms, perceived effectiveness, perceived benefits, and automatic precursors\\nwere deemed insignificant. The findings contribute to a comprehensive understanding of the factors\\nshaping actual consumption behaviors, offering valuable implications for marketers, health profes-\\nsionals, and policymakers seeking to promote informed and responsible supplement use among\\nhealth and fitness enthusiasts.\\nKeywords: fitness supplements; health belief model; theory of effort of minimization; theory of\\nplanned behavior; structural equation modelling\\n1. Introduction\\nSupplementary drinks or fitness supplements are commonly used to enhance an\\nindividual’s performance in various sports and health settings, catering to both competitive\\nand non-competitive athletes [1]. One widely known supplement for athletes and fitness\\nenthusiasts is protein supplements like protein shakes. Others may be whey protein,\\ncaffeine, and creatine, to name a few. These supplements play a crucial role in helping\\nindividuals increase muscle mass, recover faster, and enhance their overall performance [2].\\nWhey protein stands out as a top-quality protein source, containing more essential amino\\nacids than traditional protein sources. Its numerous benefits have made it a popular choice\\nfor snacks and drinks among consumers [3]. Another widely embraced supplement is\\ncaffeine, which is found in many sports and food supplements. Caffeine reduces perceived\\neffort, minimizes fatigue and pain, and proves to be effective for endurance and high-\\nintensity activities, which is the choice of consumers [4].\\nCreatine monohydrate is another well-known supplement used to gain muscle mass\\nand support performance and recovery. It is known not to increase fat mass and remains\\neffective even when taken in recommended doses [5]. Despite its popularity in the fitness\\nFoods 2024, 13, 1424. https://doi.org/10.3390/foods13091424\\nhttps://www.mdpi.com/journal/foods'),\n",
       " Document(metadata={'producer': 'iLovePDF', 'creator': '', 'creationdate': '', 'source': 'rag-dataset\\\\gym supplements\\\\1. Analysis of Actual Fitness Supplement.pdf', 'file_path': 'rag-dataset\\\\gym supplements\\\\1. Analysis of Actual Fitness Supplement.pdf', 'total_pages': 15, 'format': 'PDF 1.7', 'title': '', 'author': '', 'subject': '', 'keywords': '', 'moddate': '2024-10-21T11:38:50+00:00', 'trapped': '', 'modDate': 'D:20241021113850Z', 'creationDate': '', 'page': 1}, page_content='Foods 2024, 13, 1424\\n2 of 21\\nand sports industry, evidence suggests that creatine can benefit not only athletes but also\\nthe elderly and the general population [6]. Branched-chain amino acids (BCAA) also offer\\na plethora of benefits for consumers. As explained by Sanz et al. [7], BCAAs are stored\\ndirectly in muscles and serve as the raw materials needed to build new muscle. This\\ncontributes to the overall process of strengthening muscles and alleviating post-workout\\nsoreness. Consumers often integrate these supplements into their routines with the aim of\\noptimizing the outcomes they wish to achieve and support overall well-being [1].\\nThe sports supplement industry makes for an impressive market share of nearly\\n$12 billion in the health/wellness portfolio and is projected to be worth $24.4 billion\\nby 2025. In a study by Burke [4], which investigated 20 published studies about the\\nprevalence, methods, and reasons for supplement consumption, it is evident from the\\nfindings that supplement consumption is prevalent among athletes and even more so in\\nindividuals competing at higher levels. It can also be confirmed that most gym-goers\\ngenerally use dietary supplements, with a prevalence exceeding 40%, with a prevalence of\\n44% in Portugal and 81% in South Africa [8]. In a set of different studies, the prevalence\\namong gym-goers ranged from 29.4% to 47.5%, and these findings remained consistent. It\\nwas also seen that among 55 Spanish basketball players and English elite track and field\\nathletes, the prevalence was 58% and 86%, respectively [9].\\nWhen investigating the dietary habits of combat sports athletes in the Philippines,\\nthe findings indicated that the overall knowledge of the respondents on nutrition and\\ndietary habits was exceptional. However, the understanding of individuals about the\\nexcess intake of vitamin and mineral supplements was poor [10]. Similarly, Elsahoryi\\net al. [11] assessed the trends on dietary supplements among students and found that\\nsupplements were deemed essential; however, their knowledge of them was concluded to\\nbe insufficient. The findings of these studies implicated a need for educational intervention\\non supplements. Furthermore, the presence of unlicensed and unsafe supplements poses\\na threat to uneducated consumers. The country’s Food and Drug Administration (FDA)\\nissued a strong public caution regarding the use of 11 dietary supplements in 2019. This\\nwas because the products have not undergone the regular evaluation process of the agency,\\nmaking it impossible to ensure the safety and quality of the items [12]. Additionally, the\\navailability of dietary supplements that claimed to help in weight loss has increased in\\ndrugstores and supermarkets. Many of these supplements contain various ingredients,\\ntypically herbs, vitamins, and minerals, caffeine, and laxatives, that when taken collectively,\\nhave unclear effects [13].\\nIndividuals leading luxurious lifestyles tend to exhibit a higher inclination toward\\nthe use of supplements [14], indicating a correlation between lifestyle and the tendency\\nto use supplements. Nagar [15] found attitude to be the most influencing predictor of\\nconsumers’ consumption intention of gym supplements, implying that customers’ attitudes\\ncan be affected by risk and benefits, social influence, and health consciousness. On the\\nother hand, Campbell et al. [16] highlighted perceived behavioral control as not highly\\ninfluenced by attitude and social norms. In another study, additional information on\\nlabels was found to significantly impact consumers’ behavioral intention to use dietary\\nsupplements [17]. The study further explained that consumers often consider using the\\nsupplement if its risks and benefits are well communicated on the label. It was also reported\\nthat customer consumption behavior with regard to fitness supplements is affected by\\ntheir comprehension of the side effects [18]. Moreover, it was indicated that knowledge\\nis a significant variable in consumers’ attitudes, beliefs, and intentions toward the use of\\nsupplements [19]. As knowledge grows, parallel improvement in understanding, belief,\\nand intention to use supplements is present.\\nJairoun et al. [20] suggested a positive perception regarding the use of fitness sup-\\nplements. That is, the consumption of fitness supplements has been perceived to lead to\\ndoping, and users demonstrate stronger intentions and attitudes toward it [21]. These\\nstudies highlighted the gap in proper education regarding supplements that can distort\\nindividuals’ ability to make informed and responsible choices about their consumption,'),\n",
       " Document(metadata={'producer': 'iLovePDF', 'creator': '', 'creationdate': '', 'source': 'rag-dataset\\\\gym supplements\\\\1. Analysis of Actual Fitness Supplement.pdf', 'file_path': 'rag-dataset\\\\gym supplements\\\\1. Analysis of Actual Fitness Supplement.pdf', 'total_pages': 15, 'format': 'PDF 1.7', 'title': '', 'author': '', 'subject': '', 'keywords': '', 'moddate': '2024-10-21T11:38:50+00:00', 'trapped': '', 'modDate': 'D:20241021113850Z', 'creationDate': '', 'page': 2}, page_content='Foods 2024, 13, 1424\\n3 of 21\\npotentially putting their health at risk [22,23]. Moreover, health behavior among consumers\\nwas barely addressed among the studies. It could be posited that scarce to no studies have\\nbeen conducted regarding fitness supplement consumption, especially in the Philippines,\\nwhere gym-goers and fitness enthusiasts are abundant [24]. The emphasis Filipinos place\\non both wellness and aesthetics has fueled a rise in gym participation nationwide. Conse-\\nquently, there has been a notable uptrend in the demand for nutraceuticals, such as protein\\nbars and powders, despite their higher costs [25].\\nThis study aimed to examine factors affecting the actual consumption of fitness supple-\\nments among health and fitness enthusiasts. This study employed a theoretical framework\\nthat combined the Theory of Planned Behavior (TPB), the Health Belief Model (HBM), and\\nthe recently developed Theoretical Framework of Motivation to Pursue Exercise Activities\\n(TEMPA). By integrating these frameworks, this study provided a more holistic under-\\nstanding of the psychological and motivational factors that contribute to the consumption\\nbehavior and intention of fitness supplements. The significance of this study lies in its\\npotential to contribute insights to both academia and the health and fitness industry. Un-\\nderstanding the determinants of supplement consumption can aid in developing targeted\\ninterventions, educational programs, and marketing strategies to promote the responsible\\nand informed use of fitness supplements among enthusiasts, as well as enhancing overall\\nhealth and well-being. Furthermore, the incorporation of the framework represents a novel\\napproach to studying health-related behavior, offering a more nuanced perspective on the\\nintricate interplay of psychological, belief-based, and motivational factors in the context\\nof fitness supplement consumption, which could be applied and extended among other\\nrelated studies.\\n2. Conceptual Analysis and Hypotheses Build-Up\\nFigure 1 presents the conceptual framework of this study, integrating TPB, HBM, and\\nTEMPA. A total of 12 hypotheses were generated along with 12 latent variables. Among the\\ntheories, the TPB is said to be a frequently used behavioral model that aids in investigating\\nshifts in people’s behavior. This model operates on the premise that behavior is intentional,\\nenabling the prediction of actions [26]. On the other hand, the HBM is a well-researched\\nframework for understanding health behavior. It seeks to anticipate behavior related to\\nhealth by examining specific patterns of beliefs [27]. Lastly, several studies have employed\\nTEMPA to align with individuals’ physical efforts. TEMPA is a comprehensive model\\nassessing individuals’ tendency to engage in physical activities, incorporating factors that\\nmay promote their intentions [28].\\nDealing with TPB domains, several studies have justified the effects of behavioral\\nintention on up-taking dietary supplements. In this study, attitude refers to a disposition to\\nreact positively or negatively to a behavior [29]. It is evident in multiple studies that attitude\\nis a variable that has a significant impact on consumer’s behavioral intention. In context,\\nConner et al. [30] investigated the environmental influences that contributed to the decision\\nof women to use dietary supplements. The results showed that stronger intentions to use\\nsupplements were associated with positive attitudes. Liu et al. [31] assessed the effect of the\\nfear of COVID-19 on purchase behavior on dietary supplements. Their findings supported\\nthat attitude, which, alongside other behavioral parameters, significantly affected purchase\\nintention. Moreover, Nagar [15] examined the choice of gym supplements that gym-goers\\nwould purchase. The findings revealed that gym-goers’ intention to buy supplements is\\ninfluenced by their attitude, which is shaped by perceived risk and benefit, social influence,\\nand health consciousness.\\nOn the other hand, subjective norms represent an individual’s perception of others’\\nopinions regarding the execution of a particular behavior, affecting the intentions of Iranian\\nadolescent girls to intake iron and vitamin D supplements [32]. While Housman [33]\\nanalyzed the usage of sports-related supplements of elite female athletes, it was noted that\\ntheir perceptions were influenced greatly by the beliefs held by significant people around\\nthem. Participants expressed that the strongest influences on their behavior came from'),\n",
       " Document(metadata={'producer': 'iLovePDF', 'creator': '', 'creationdate': '', 'source': 'rag-dataset\\\\gym supplements\\\\1. Analysis of Actual Fitness Supplement.pdf', 'file_path': 'rag-dataset\\\\gym supplements\\\\1. Analysis of Actual Fitness Supplement.pdf', 'total_pages': 15, 'format': 'PDF 1.7', 'title': '', 'author': '', 'subject': '', 'keywords': '', 'moddate': '2024-10-21T11:38:50+00:00', 'trapped': '', 'modDate': 'D:20241021113850Z', 'creationDate': '', 'page': 3}, page_content='Foods 2024, 13, 1424\\n4 of 21\\nparents and teammates. The findings of Haubenstricker [34] also stated that subjective\\nnorms and attitude were the most influential drivers in female bodybuilders’ intentions to\\nuse dietary supplements.\\n \\nFigure 1. Conceptual framework combining TEMPA, HBM, and TPB to assess behavioral intention\\nand actual consumption of fitness supplements.\\nIn addition, Lino et al. [35] conducted a study to investigate the attitudes and beliefs\\non dietary supplements among HIV-positive black women. The findings of the study\\nindicated that perceived behavioral control is a significant predictor of intention to use\\ndietary supplements. Similarly, Chen et al. [36] examined the effects of the perceived\\nbenefits of vitamin D supplementation intention. The results presented that the levels of\\nintention to take vitamin D supplements were accurately predicted by factors under the\\nTPB domains; the highest was perceived behavioral control. Pawlak et al. [37] investigated\\nthe drivers of multivitamin consumption in female Caucasian college students. Perceived\\nbehavioral control, along with attitude, were found to have a significant impact on their\\nbehavioral intentions. Thus, in this study hypothesized the following:\\nH1. Attitude has a significant direct effect on behavioral intention.\\nH2. Subjective norms have a significant direct effect on behavioral intention.\\nH3. Perceived behavioral control has a significant direct effect on behavioral intention.\\nFor health and consumers’ belief, Hanna and Hughes [38] investigated the perspective\\nof the public regarding decision-making regarding over-the-counter drugs and their stance\\non the evidence supporting its effectiveness. The results of the study showed that the\\nperceived effectiveness of the medicine influenced their intention to purchase. Similarly,\\nMünstedt et al. [39] investigated the perceived effectiveness of complementary and alterna-\\ntive medicine. The findings indicated that belief in the effectiveness of complementary and\\nalternative medicine were motivating factors. Increasing perceived effectiveness results in'),\n",
       " Document(metadata={'producer': 'iLovePDF', 'creator': '', 'creationdate': '', 'source': 'rag-dataset\\\\gym supplements\\\\1. Analysis of Actual Fitness Supplement.pdf', 'file_path': 'rag-dataset\\\\gym supplements\\\\1. Analysis of Actual Fitness Supplement.pdf', 'total_pages': 15, 'format': 'PDF 1.7', 'title': '', 'author': '', 'subject': '', 'keywords': '', 'moddate': '2024-10-21T11:38:50+00:00', 'trapped': '', 'modDate': 'D:20241021113850Z', 'creationDate': '', 'page': 4}, page_content='Foods 2024, 13, 1424\\n5 of 21\\na positive attitude and stronger purchase intention, underscoring the importance of the\\nfactor in consumer behavior [40]. Hence, the following was hypothesized:\\nH4. Perceived effectiveness has a significant direct effect on behavioral intention.\\nMotivation for health involves an individual’s readiness to modify their behavior\\nfor the sake of enhancing their well-being [41]. In the study by Ataei et al. [42], it was\\nexplained that a significant influence of health motivation, among other factors, on farmers’\\nintentions to adopt green and safer pesticides was seen after they were aware of the benefits\\nof utilizing it. This signified that attitude toward health and the prevention of diseases is\\none of the main drivers to utilize the greener alternatives. Moreover, Sirico [43] observed\\nthat Italian students often consumed food supplements with a focus on overall well-being.\\nThey underscored that the respondents’ pursuit of maintaining good health is a priority.\\nLikewise, Kovács [44] found that leisure-time athletes primarily took supplements as a\\nproactive measure to maintain their health. These findings collectively highlighted the\\ntrend of individuals engaging in behaviors aimed at improving their health. Therefore, the\\nfollowing could be hypothesized:\\nH5. Health motivation has a significant direct effect on behavioral intention.\\nYazdanpanah et al. [45] found that the key factor influencing the intention to consume\\norganic food among Iranian young adults is the perceived health benefit. This suggests\\nthat individuals are inclined to choose organic foods due to their perceived health benefits\\nfor both themselves and the environment, thereby increasing the likelihood of choosing\\norganic options. In a similar vein, Saghafi-Asi [46] identified perceived benefits as a robust\\npredictor of weight management behavior, and Shitu [47] reported a positive correlation\\nbetween perceived benefits and preventive behavior against COVID-19. Thus, this study\\nhypothesized the following:\\nH6. Perceived benefit has a significant direct effect on behavioral intention.\\nPerceived barriers, on the other hand, are the beliefs that carrying out a behavior is\\nrestricted due to psychosocial, physical, or financial factors. When assessing the predictors\\nof the intention to receive the COVID-19 vaccine, low perceived barriers were an important\\npredictor of a definite intention to take the vaccine [48]. Bhandari [49] found that perceived\\nbarriers negatively affected the safety behaviors of farmers to use safer pesticides and\\nadhere to safety behaviors; the findings indicated that educational programs and training\\nwere advised to mitigate the effect of these perceived barriers. Similarly, Pinho et al. [50]\\nfound that perceived barriers also had a significant effect on healthy eating. This suggests\\nthat individuals’ decision to carry out behaviors that positively affect health are significantly\\naffected by perceived barriers. To which, this study hypothesized the following:\\nH7. Perceived barriers have a significant direct effect on behavioral intention.\\nSelf-efficacy is one’s belief in being able to succeed in any task that they are given.\\nThis trait can be general or specific, allowing individuals to have a range of self-efficacy\\nabout themselves [51]. Upon investigating the relationship between dietary supplements\\nand the general self-efficacy levels of athletes, the findings showed that athletes with\\nlower self-efficacy tend to consume more supplements [52]. Broelz et al. [53] found that\\ngiving athletes a supplement with high salience caused them to work harder than products\\nwith low salience, underscoring the psychological benefit of supplements. Another study\\nfocused on ergogenic supplements’ effects on the performance of cycling athletes; they\\nhad a positive effect on the speed and endurance of the cyclists [54]. Similarly, López-\\nTorres et al. [55] discovered that the consumption of ergogenic supplements aided in\\nthe performance of female athletes and enhanced their efficacy to reach specific physical')]"
      ]
     },
     "execution_count": 9,
     "metadata": {},
     "output_type": "execute_result"
    }
   ],
   "source": [
    "# docs \n",
    "docs[:5]\n"
   ]
  },
  {
   "cell_type": "markdown",
   "id": "7a33bd6d",
   "metadata": {},
   "source": [
    "## Document Chunking"
   ]
  },
  {
   "cell_type": "code",
   "execution_count": 10,
   "id": "ffc71527",
   "metadata": {},
   "outputs": [],
   "source": [
    "from langchain_text_splitters import RecursiveCharacterTextSplitter\n"
   ]
  },
  {
   "cell_type": "code",
   "execution_count": 11,
   "id": "ff2d511a",
   "metadata": {},
   "outputs": [],
   "source": [
    "text_splotter = RecursiveCharacterTextSplitter(chunk_size=1000, chunk_overlap=100)\n",
    "chunks = text_splotter.split_documents(docs)"
   ]
  },
  {
   "cell_type": "code",
   "execution_count": 12,
   "id": "a484bf0f",
   "metadata": {},
   "outputs": [
    {
     "data": {
      "text/plain": [
       "(64, 311)"
      ]
     },
     "execution_count": 12,
     "metadata": {},
     "output_type": "execute_result"
    }
   ],
   "source": [
    "len(docs), len(chunks)"
   ]
  },
  {
   "cell_type": "code",
   "execution_count": 13,
   "id": "30769239",
   "metadata": {},
   "outputs": [
    {
     "name": "stdout",
     "output_type": "stream",
     "text": [
      "Citation: Espeño, P.R.; Ong, A.K.S.;\n",
      "German, J.D.; Gumasing, M.J.J.; Casas,\n",
      "E.S. Analysis of Actual Fitness\n",
      "Supplement Consumption among\n",
      "Health and Fitness Enthusiasts. Foods\n",
      "2024, 13, 1424. https://doi.org/\n",
      "10.3390/foods13091424\n",
      "Academic Editors: Ilija Djekic\n",
      "and Nada Smigic\n",
      "Received: 30 March 2024\n",
      "Revised: 15 April 2024\n",
      "Accepted: 18 April 2024\n",
      "Published: 6 May 2024\n",
      "Copyright: © 2024 by the authors.\n",
      "Licensee MDPI, Basel, Switzerland.\n",
      "This article is an open access article\n",
      "distributed\n",
      "under\n",
      "the\n",
      "terms\n",
      "and\n",
      "conditions of the Creative Commons\n",
      "Attribution (CC BY) license (https://\n",
      "creativecommons.org/licenses/by/\n",
      "4.0/).\n",
      "foods\n",
      "Article\n",
      "Analysis of Actual Fitness Supplement Consumption among\n",
      "Health and Fitness Enthusiasts\n",
      "Paolo Renzo Espeño 1, Ardvin Kester S. Ong 1,2,*\n",
      ", Josephine D. German 1\n",
      ", Ma. Janice J. Gumasing 3\n",
      "and Ethan S. Casas 1\n",
      "1\n",
      "School of Industrial Engineering and Engineering Management, Mapúa University, 658 Muralla St.,\n",
      "Intramuros, Manila 1002, Philippines\n",
      "2\n",
      "E.T. Yuchengo School of Business, Mapúa University, 1191 Pablo Ocampo Sr. Ext., Makati 1204, Philippines\n",
      "3\n",
      "Department of Industrial and Systems Engineering, Gokongwei College of Engineering,\n",
      "De La Salle University, 2401 Taft Ave., Manila 1007, Philippines\n",
      "*\n",
      "Correspondence: aksong@mapua.edu.ph; Tel.: +63-(2)8247-5000 (ext. 6202)\n",
      "Abstract: With the rising popularity of fitness supplements, understanding the factors driving their\n",
      "consumption behaviors is crucial. This study investigated the actual consumption of fitness supple-\n",
      "ments utilizing the Theory of Planned Behavior (TPB), Health Belief Model (HBM), and the Theory\n",
      "of Effort Minimization in Physical Activity (TEMPA) frameworks. The TPB provided insights into\n",
      "how attitudes, subjective norms, and perceived behavioral control influence individuals’ intentions\n",
      "to consume fitness supplements. Additionally, the HBM sheds light on perceived effectiveness,\n",
      "benefits, barriers, and health motivation related to supplement consumption. Integrating the TEMPA\n",
      "framework further investigated the role of effort minimization in physical activity contexts. Through\n",
      "an online questionnaire, data were collected from a sample of 250 fitness supplement-consuming\n",
      "respondents. SEM analysis revealed significant associations between behavioral intentions and\n",
      "attitudes, perceived behavioral control, health motivation, and controlled precursors. However, it\n",
      "was seen that subjective norms, perceived effectiveness, perceived benefits, and automatic precursors\n",
      "were deemed insignificant. The findings contribute to a comprehensive understanding of the factors\n",
      "shaping actual consumption behaviors, offering valuable implications for marketers, health profes-\n",
      "sionals, and policymakers seeking to promote informed and responsible supplement use among\n",
      "health and fitness enthusiasts.\n",
      "Keywords: fitness supplements; health belief model; theory of effort of minimization; theory of\n",
      "planned behavior; structural equation modelling\n",
      "1. Introduction\n",
      "Supplementary drinks or fitness supplements are commonly used to enhance an\n",
      "individual’s performance in various sports and health settings, catering to both competitive\n",
      "and non-competitive athletes [1]. One widely known supplement for athletes and fitness\n",
      "enthusiasts is protein supplements like protein shakes. Others may be whey protein,\n",
      "caffeine, and creatine, to name a few. These supplements play a crucial role in helping\n",
      "individuals increase muscle mass, recover faster, and enhance their overall performance [2].\n",
      "Whey protein stands out as a top-quality protein source, containing more essential amino\n",
      "acids than traditional protein sources. Its numerous benefits have made it a popular choice\n",
      "for snacks and drinks among consumers [3]. Another widely embraced supplement is\n",
      "caffeine, which is found in many sports and food supplements. Caffeine reduces perceived\n",
      "effort, minimizes fatigue and pain, and proves to be effective for endurance and high-\n",
      "intensity activities, which is the choice of consumers [4].\n",
      "Creatine monohydrate is another well-known supplement used to gain muscle mass\n",
      "and support performance and recovery. It is known not to increase fat mass and remains\n",
      "effective even when taken in recommended doses [5]. Despite its popularity in the fitness\n",
      "Foods 2024, 13, 1424. https://doi.org/10.3390/foods13091424\n",
      "https://www.mdpi.com/journal/foods\n"
     ]
    }
   ],
   "source": [
    "docs[0].metadata\n",
    "print(docs[0].page_content)"
   ]
  },
  {
   "cell_type": "code",
   "execution_count": 14,
   "id": "057bac3a",
   "metadata": {},
   "outputs": [
    {
     "name": "stdout",
     "output_type": "stream",
     "text": [
      "Citation: Espeño, P.R.; Ong, A.K.S.;\n",
      "German, J.D.; Gumasing, M.J.J.; Casas,\n",
      "E.S. Analysis of Actual Fitness\n",
      "Supplement Consumption among\n",
      "Health and Fitness Enthusiasts. Foods\n",
      "2024, 13, 1424. https://doi.org/\n",
      "10.3390/foods13091424\n",
      "Academic Editors: Ilija Djekic\n",
      "and Nada Smigic\n",
      "Received: 30 March 2024\n",
      "Revised: 15 April 2024\n",
      "Accepted: 18 April 2024\n",
      "Published: 6 May 2024\n",
      "Copyright: © 2024 by the authors.\n",
      "Licensee MDPI, Basel, Switzerland.\n",
      "This article is an open access article\n",
      "distributed\n",
      "under\n",
      "the\n",
      "terms\n",
      "and\n",
      "conditions of the Creative Commons\n",
      "Attribution (CC BY) license (https://\n",
      "creativecommons.org/licenses/by/\n",
      "4.0/).\n",
      "foods\n",
      "Article\n",
      "Analysis of Actual Fitness Supplement Consumption among\n",
      "Health and Fitness Enthusiasts\n",
      "Paolo Renzo Espeño 1, Ardvin Kester S. Ong 1,2,*\n",
      ", Josephine D. German 1\n",
      ", Ma. Janice J. Gumasing 3\n",
      "and Ethan S. Casas 1\n",
      "1\n",
      "School of Industrial Engineering and Engineering Management, Mapúa University, 658 Muralla St.,\n",
      "Intramuros, Manila 1002, Philippines\n",
      "2\n"
     ]
    }
   ],
   "source": [
    "docs[0].metadata\n",
    "# print(docs[0].page_content)\n",
    "\n",
    "print(chunks[0].page_content)"
   ]
  },
  {
   "cell_type": "code",
   "execution_count": 15,
   "id": "619ef9dd",
   "metadata": {},
   "outputs": [
    {
     "data": {
      "text/plain": [
       "{'producer': 'iLovePDF',\n",
       " 'creator': '',\n",
       " 'creationdate': '',\n",
       " 'source': 'rag-dataset\\\\health supplements\\\\1. dietary supplements - for whom.pdf',\n",
       " 'file_path': 'rag-dataset\\\\health supplements\\\\1. dietary supplements - for whom.pdf',\n",
       " 'total_pages': 17,\n",
       " 'format': 'PDF 1.7',\n",
       " 'title': '',\n",
       " 'author': '',\n",
       " 'subject': '',\n",
       " 'keywords': '',\n",
       " 'moddate': '2024-10-21T11:37:54+00:00',\n",
       " 'trapped': '',\n",
       " 'modDate': 'D:20241021113754Z',\n",
       " 'creationDate': '',\n",
       " 'page': 8}"
      ]
     },
     "execution_count": 15,
     "metadata": {},
     "output_type": "execute_result"
    }
   ],
   "source": [
    "chunks[0].metadata\n",
    "chunks[1].metadata\n",
    "\n",
    "chunks[150].metadata "
   ]
  },
  {
   "cell_type": "markdown",
   "id": "830bc3cd",
   "metadata": {},
   "source": [
    "## Document Vector Embedding "
   ]
  },
  {
   "cell_type": "code",
   "execution_count": 16,
   "id": "535448e4",
   "metadata": {},
   "outputs": [],
   "source": [
    "from langchain_ollama import OllamaEmbeddings\n",
    "import faiss \n",
    "from langchain_community.vectorstores import FAISS\n",
    "from langchain_community.docstore.in_memory import InMemoryDocstore\n"
   ]
  },
  {
   "cell_type": "code",
   "execution_count": 17,
   "id": "41ac50dc",
   "metadata": {},
   "outputs": [],
   "source": [
    "embeddings = OllamaEmbeddings(\n",
    "    model=\"nomic-embed-text:v1.5\",\n",
    "    base_url=\"http://localhost:11434\",\n",
    ")\n",
    "\n",
    "vector = embeddings.embed_query(chunks[0].page_content)"
   ]
  },
  {
   "cell_type": "code",
   "execution_count": 18,
   "id": "d6a0044b",
   "metadata": {},
   "outputs": [
    {
     "data": {
      "text/plain": [
       "768"
      ]
     },
     "execution_count": 18,
     "metadata": {},
     "output_type": "execute_result"
    }
   ],
   "source": [
    "len(vector)"
   ]
  },
  {
   "cell_type": "markdown",
   "id": "b1feb041",
   "metadata": {},
   "source": [
    "## Storing Embeddign in Vector Store "
   ]
  },
  {
   "cell_type": "code",
   "execution_count": 19,
   "id": "63743f7c",
   "metadata": {},
   "outputs": [
    {
     "data": {
      "text/plain": [
       "(0, 768)"
      ]
     },
     "execution_count": 19,
     "metadata": {},
     "output_type": "execute_result"
    }
   ],
   "source": [
    "len(vector)\n",
    "\n",
    "index = faiss.IndexFlatIP(len(vector))\n",
    "\n",
    "index.ntotal, index.d "
   ]
  },
  {
   "cell_type": "code",
   "execution_count": 20,
   "id": "f288111b",
   "metadata": {},
   "outputs": [],
   "source": [
    "vector_store = FAISS(\n",
    "    embedding_function=embeddings,\n",
    "    index=index,\n",
    "    docstore=InMemoryDocstore(),\n",
    "    index_to_docstore_id={}\n",
    ")"
   ]
  },
  {
   "cell_type": "code",
   "execution_count": 21,
   "id": "85a046e3",
   "metadata": {},
   "outputs": [
    {
     "data": {
      "text/plain": [
       "0"
      ]
     },
     "execution_count": 21,
     "metadata": {},
     "output_type": "execute_result"
    }
   ],
   "source": [
    "vector_store.index.ntotal "
   ]
  },
  {
   "cell_type": "code",
   "execution_count": 22,
   "id": "1bcf1a4d",
   "metadata": {},
   "outputs": [],
   "source": [
    "ids = vector_store.add_documents(documents=chunks)"
   ]
  },
  {
   "cell_type": "code",
   "execution_count": 23,
   "id": "b22dfa45",
   "metadata": {},
   "outputs": [
    {
     "data": {
      "text/plain": [
       "['b62a9f94-c263-4ee4-8a77-376419bafb6f',\n",
       " 'be4438bb-31cf-4ace-a639-3c3d28854cf1',\n",
       " 'eb231443-40b9-4abe-983f-0f054cda0d1b',\n",
       " 'f072008f-9297-482d-a18d-c1b9f781987c',\n",
       " '57b73777-115c-460e-a412-506bd1f54856',\n",
       " 'dbe29060-5df8-4833-b0ff-16d17db11a62',\n",
       " '023e22be-a9b4-485d-ac22-4118fcf712db',\n",
       " '9c73d31d-dbd2-4f78-9e4f-a21438754579',\n",
       " '5ff734e5-bb1e-49ff-bf56-6e14ca79dcf8',\n",
       " 'b8d1c0a3-2809-47d8-a1b8-17306acb4ec3',\n",
       " 'e62fd13a-ab2b-47ec-8bee-63b2d4554895',\n",
       " '302a7e88-4c65-4a80-8db7-a00c6b4dadae',\n",
       " '59e5f2f1-f7c4-4121-b0ee-a6ad5d134570',\n",
       " '49ee40ae-386f-4146-90bd-7daf6f134d5d',\n",
       " 'bbddb744-b0bf-44e1-9ba1-4b9a370e9d13',\n",
       " 'a00e2ce8-a2ee-490f-956f-34a2321d8b98',\n",
       " 'd8cf24d9-a609-41dc-97d9-1317ba5f68fa',\n",
       " '4b7c9c47-ef76-4873-98ba-c239d75ac1a3',\n",
       " 'cc27535e-8089-42f1-bcd6-adc64bfd851d',\n",
       " '664eb7b3-1362-4266-9c0e-5f5eb3f50059',\n",
       " '6e2c1d7b-1864-4917-94b7-ea07652886b0',\n",
       " 'cb12d40c-c2c4-4b5f-a532-7aa51892ba8b',\n",
       " '0979f0be-8dad-420d-b540-469117f48c92',\n",
       " 'a1fcdb39-50f2-4b40-8e32-72f42ae2aecb',\n",
       " 'ae90be04-6feb-489c-a521-cd2c9fadc16b',\n",
       " 'ce30ab61-4cba-4bea-bd38-38f11929b88e',\n",
       " '42dab32f-7e05-4d4f-bdc1-2335f5813c8f',\n",
       " 'a2c1b537-7cc5-4f7f-894b-4b293c8898bd',\n",
       " '80d37806-9a66-4707-8823-28bf8f6df44b',\n",
       " 'e47317e4-6635-463a-b3e3-2c07837077e8',\n",
       " 'e5c9faaf-2a78-4eda-b76d-f33c8e88b2d9',\n",
       " '7ef8f63f-8b65-4654-823b-824452bc7f7f',\n",
       " 'd0bec22a-9c80-4eac-ba96-cbddd9c1cceb',\n",
       " '9b0821e7-129b-4ae2-bceb-7d7f3e4a7e1f',\n",
       " 'a0af1ed2-4da9-4024-853f-e312cf2943e0',\n",
       " '1f6cfab0-d3e1-4258-a8ab-7af32ab7ea6f',\n",
       " '02875e85-0e32-4bc2-bb8d-d795b7ab0515',\n",
       " 'aa0db7e8-1603-411d-8674-098b75ab5ef5',\n",
       " '3e2c03b9-3633-4f0e-b12c-c3196cd78a4e',\n",
       " 'ec5e9843-2672-4758-b8cf-1f0b713dd128',\n",
       " '6857951a-fe45-444a-8b86-df9d1c1fdbd2',\n",
       " 'e151d7b1-96ec-493e-852d-685dd4becc97',\n",
       " '5517258f-9d77-4f6d-a10b-dfe8279cb5ab',\n",
       " 'fdb86dce-6c62-4959-aea9-81875877210a',\n",
       " 'e99c510d-9907-45a5-9c3d-89edcfff20ae',\n",
       " 'dcfc8bf5-b935-4f99-a67c-d1e90382a489',\n",
       " 'b92a28af-416d-4447-962f-5ce4d0aa78f3',\n",
       " '44f20b4e-aca5-45ee-a4c4-eceed6f818c9',\n",
       " '957e9ac0-a902-4c48-a5de-e52cab428abd',\n",
       " '6d751fe9-e7c5-480d-8d49-c2ba2832f0aa',\n",
       " 'b5e09eb9-2a7c-4d7d-a144-5510df2119e1',\n",
       " '3d5e98da-d823-4803-b54f-a186114ebd9c',\n",
       " '29b2f322-6615-4d90-ae5b-ce9b67450e5f',\n",
       " '3fda3b5e-d989-4041-83fd-2b53d1bb2031',\n",
       " '55ac9962-47a8-44b3-ae5a-a8b917671b0a',\n",
       " '68ab55f8-1836-4f04-874a-9a2690eb0fdc',\n",
       " '2237071d-3d49-4e3a-b67a-9761e0422b63',\n",
       " 'ad50c9bd-9cb9-43a7-ade2-6883f43de43a',\n",
       " '7e3b42bc-6f53-43e9-920c-07136e061eeb',\n",
       " '537f9c22-0b8b-430e-a318-d414cac046c9',\n",
       " '54d7e189-ff4c-4ddc-b52b-be0fd23d5bca',\n",
       " '3095918e-c0f3-4fba-92da-7b863f03723a',\n",
       " '648b4ec1-6d38-40f8-886b-5fc1a47a5664',\n",
       " 'd681e8b0-e2b4-48b6-a0b3-f4dd57fd5432',\n",
       " '27a8bc71-1c2b-413f-b2d3-e9b1d60378d9',\n",
       " '82295bf3-ae79-4701-98ae-2f4a20253bf1',\n",
       " '27b83961-4692-4853-a828-47b22afa5b76',\n",
       " 'f1419472-906f-41bf-bd5b-8420a300bf58',\n",
       " 'd39eb601-1421-4b9c-993a-501f3653e57e',\n",
       " '07c1ae8e-d96f-4d8f-ada4-e15bd388a67a',\n",
       " '59c244bc-e1dc-4014-b734-34f1fe274df1',\n",
       " 'c42b150c-c0fc-4888-9253-2808b9769d90',\n",
       " 'd7952b66-eac6-405f-93d5-912db9aec7c1',\n",
       " '066e2c99-31a5-4ce2-bf7c-6013459d2ca5',\n",
       " '0e7cae01-4f8c-4193-b909-d1bdc14f2c1c',\n",
       " 'ddc5db3d-ef26-40b6-928e-1944a7fd2234',\n",
       " 'ae00f498-0bd9-49a7-9dcd-72fb0f5809bf',\n",
       " '941a06ac-f3b5-40ff-b0c8-3ffae173499b',\n",
       " '3dce2cfb-9337-48aa-9d75-28ce131db190',\n",
       " '5635b59f-968e-4828-9d34-ed744ce14cf6',\n",
       " 'b734930f-243c-470d-a889-bb88e3094318',\n",
       " '1d0513da-571e-4537-b81a-657131181d1a',\n",
       " '35f8d911-a020-442e-8471-fc74232e1ed1',\n",
       " 'dd16c4ab-1b6d-4074-bffc-8630716e38d2',\n",
       " 'ae6e2a49-5f68-4658-9159-cb93830efaf4',\n",
       " 'a7eb6167-55a7-4b0e-b13e-a692fefd322f',\n",
       " '8b57d0d8-c206-46d6-8e0a-e05f217cadde',\n",
       " '6792bea2-52ef-48b2-b24e-bdc73ede1bd8',\n",
       " 'd531abb0-a2bb-48e2-9eee-7c1c8b8d5d92',\n",
       " 'b52edc4f-3697-4954-b30c-56e015f0f66f',\n",
       " '2c83f710-3f65-486b-89c4-cbb5f5506889',\n",
       " '415947f5-59d8-43b7-9996-8e9c2804608a',\n",
       " 'e1557b15-5cdb-43ee-bc58-fea9f7b78ef3',\n",
       " '4afe70d5-7fb1-4ad6-9411-b63f5f71d719',\n",
       " 'f15446c4-5827-4063-80bb-97b1e877ee4f',\n",
       " '0452b6a4-ded0-494f-a9c0-37a70db52cfd',\n",
       " '61f5bd3f-e6c8-4a17-848d-d6481e0b3c36',\n",
       " '10b4f247-d48d-499d-8f78-146ec9c12518',\n",
       " '1dede460-afaa-4e38-ac7c-2d409374c1e3',\n",
       " '2a6fb53a-b8b3-4980-a16f-333ce0b98736',\n",
       " '57399e84-0872-456a-903a-521f8b86d065',\n",
       " '6bf3d182-8d17-4a16-85ae-b81ae725a91c',\n",
       " '00c47e3d-bfb5-4729-9930-683e588af9f6',\n",
       " 'a8beac48-61c9-4b25-aaa5-2bf6de7874e1',\n",
       " '563c77b8-5de4-4a8b-9d3f-253a1d9bb64c',\n",
       " '762529ab-96b0-4e1b-bbfe-859d5dcb99f4',\n",
       " 'c19a8644-3f92-415d-88ad-77bc2e1e8b6b',\n",
       " '510fe11e-78ec-4bf8-af40-b03a97921357',\n",
       " 'f5606aab-1925-4419-831b-7f9cdf37b27f',\n",
       " '13df55a8-e4f4-4c84-841c-ba338c4413f8',\n",
       " '792425d9-4ca2-4f86-a5da-9c01f8df6e1b',\n",
       " '15365281-93e9-46e8-b943-db45022aac2f',\n",
       " 'ab208ed3-3e0e-4ae7-8ac0-f5f78a6806d4',\n",
       " 'e086cabf-9a70-4004-b0ab-05f6151aa765',\n",
       " 'e5e3c268-d76e-4675-8ec3-4e76313a2223',\n",
       " '23a9a4c5-8021-4433-8f50-5527ce7a158c',\n",
       " '17a1437d-1eba-4378-9102-b504e5b8291f',\n",
       " '4de74ca7-0f2d-4916-8cf9-8817c04d90a4',\n",
       " 'c0599913-f533-403c-a885-43fde82ad510',\n",
       " 'c6292916-eef3-42f2-a709-e299d35f7bb5',\n",
       " '8c13ac52-0c36-478e-b908-3751aa3bc59f',\n",
       " '2512b463-2ee1-43b8-97cf-140fc01db36f',\n",
       " '6e29ad0e-5e8a-4233-b833-86ae78867ff5',\n",
       " '4cae3b17-d9a9-4029-91f5-2fcec86aca25',\n",
       " '949df699-1090-4d88-8aec-a86629d248d7',\n",
       " 'efe6115d-46df-4ef5-8af5-e768f7241573',\n",
       " '54dc4a90-287f-471d-9b00-6f4ce93e273e',\n",
       " 'b35aa2a9-b860-4162-ab8d-7b1abc10ca9f',\n",
       " 'f118486b-5987-4201-9b25-3ca97ddb0b0b',\n",
       " 'f1e46857-0bef-4824-83c7-19dca997b2dd',\n",
       " '8d11595f-b641-4de3-a541-b30567cfe07f',\n",
       " '7b135107-a4f8-43aa-ae13-40d6ee77c656',\n",
       " '897f1251-f2b2-47ac-8c74-e216aff64658',\n",
       " 'fb260b95-5906-4060-a4ad-9af40adbaafd',\n",
       " '18bca88e-27fc-4a08-a7b4-612313558622',\n",
       " 'c0525041-e75d-4fd4-9de0-9aa60dc389e8',\n",
       " '1286703c-7043-461f-a4ab-7680583d06f1',\n",
       " '7f9a840e-8d62-4cb3-b838-69b3af65434a',\n",
       " '5888b832-d00f-4247-9b6a-834c6993884b',\n",
       " '4309755a-0919-44e2-9c3e-b01219faae9d',\n",
       " 'a8341dbe-95f4-4ce1-92fd-6806f9f5849e',\n",
       " 'f8d116e9-8ee5-43ff-9d6b-3057294c2085',\n",
       " '081563aa-2445-4e8f-a6cd-5f56ead161df',\n",
       " 'e8c86ba7-cb60-43c1-a277-64244ac98a4f',\n",
       " '153082ea-641f-4798-89bb-e4f4c701dc8d',\n",
       " 'ab751df9-5712-497b-aafe-3981cfb7b944',\n",
       " '0e9c360f-b07b-4054-80c9-e5d41a4b4cb2',\n",
       " '505a9285-c2bf-4ca3-8a75-b4ff4c6af7cf',\n",
       " 'e8e7c078-2944-48d5-aa5b-9bfb2ed869c7',\n",
       " 'c0d1a65d-02f5-462b-9271-4ac71647cfc4',\n",
       " '1a1e8a20-b7ca-4f23-a5c1-7572cb93c71c',\n",
       " '07704bae-03bc-454e-9c8e-bb3f5ce9b6ae',\n",
       " 'ec1050a9-0a13-483b-a767-c7d814537857',\n",
       " 'c20b12a4-a35e-4243-a0a2-6d2a926e6a4a',\n",
       " '1a028a0c-1152-4406-a9eb-6af084d6732a',\n",
       " '060e59ee-c4e1-4e91-aee6-2141c8347dcb',\n",
       " '04670af3-7fe4-4ac4-bd59-ecf08b5a2dbc',\n",
       " '04aabeb8-c03d-4497-9111-70fb8eb55980',\n",
       " 'f1a294ad-e7a3-46cd-883b-43419bb1a13b',\n",
       " 'e89cd745-0fbd-40e7-9eee-b662cac5ac5c',\n",
       " 'f30efcdc-79ca-4c15-9f53-1ca3d936bb44',\n",
       " 'c761bd74-651c-44db-ac86-443ccfa50c54',\n",
       " 'a791087d-39c7-45dc-8f92-90d6e81e1f0c',\n",
       " '93d5e1f2-37f2-4f19-878f-dfc13bee2e36',\n",
       " '726b94c7-86f7-424c-b7e6-aeff6e8c7dc4',\n",
       " 'a086ee91-68ba-45fc-91f5-f9fb149c7a8e',\n",
       " 'e85ae566-ccb7-4dd3-8fe0-1c419cc264bc',\n",
       " 'd4fdcf3c-5477-4f53-9b59-bf101a127594',\n",
       " '7a03a50e-de34-49a2-b05f-a0d6fb710d26',\n",
       " 'becc0aef-57a6-448e-a09b-ad1c8b7c318e',\n",
       " '87bb085c-ffe2-493c-ac46-44a26afa7c8c',\n",
       " 'c6272ff1-eec9-4355-b8ce-2f1842831441',\n",
       " 'f6994bb4-7fc3-4b69-b361-91db263179e9',\n",
       " '8197b7aa-213f-4f7c-bf56-570515695d60',\n",
       " '246628a8-ea21-48e8-94e1-ae42f62b13b0',\n",
       " 'dcbb8577-97d6-46c0-8760-ea6d6683cada',\n",
       " 'a215cfd1-05dd-4835-90c0-d13f451ac685',\n",
       " '2eaf0cde-f665-47d8-baf5-f5824fdfa899',\n",
       " 'fb6602fb-6020-456a-a168-e4aaf23dba0d',\n",
       " '19e61cc8-2c93-4ab1-840c-6129844bdfb3',\n",
       " 'ec5e737b-c996-4c7b-901f-7ce156fb0024',\n",
       " 'd4304f13-bca1-449d-b2af-075a4331cb5e',\n",
       " 'bf575524-c1a7-4e32-a3f8-145551f8c644',\n",
       " '1d252b99-427e-416e-85c2-25edb382b8d3',\n",
       " '8707e7c9-7b75-465e-9ffc-b03f748e64d1',\n",
       " 'bfdba1ea-f601-49fd-a89f-b2e03d309484',\n",
       " 'e24202b1-55d8-4869-ba93-d6177c3340e3',\n",
       " 'b81e4051-850a-4f74-bd5a-b8442d2a8cad',\n",
       " '5fd5b032-72cf-4aed-9e0a-dea5055688e9',\n",
       " '816aeb56-aee5-4433-a826-0591536c094b',\n",
       " '1eb3e81f-2dda-4692-b9b8-2eb7c4c27fa4',\n",
       " 'e70ec9a9-3aad-4447-b5f7-1fcf4b44cc2f',\n",
       " '36a45a21-f325-4bdc-85c0-6cd43a32fa44',\n",
       " '40d2a79a-5f5d-4fb8-93a9-fc9fc7d9681d',\n",
       " 'e3b6d1c1-3ea1-4136-9da4-d5cdb00d3b4b',\n",
       " '695ea766-363b-4d83-9f2f-3c009268a00b',\n",
       " 'befd0136-63cb-428c-ac9f-45c352045643',\n",
       " '28e49366-1c77-4d62-abe9-76b37fa9734d',\n",
       " '9792fc14-d4a9-45f7-967c-d82164cf407f',\n",
       " 'e33b1f56-b6d3-4660-8467-e2659fdb1443',\n",
       " '10691b7e-9fff-45e0-a2f8-63f420bcb285',\n",
       " 'c139d925-ab7e-4b94-a3d8-5ab17e895a3a',\n",
       " 'dee713b2-e8df-46af-b682-92218721407f',\n",
       " '7d1010ba-c4e6-462d-80fa-f99918d664c4',\n",
       " 'f7b4f2a6-64b9-4078-99e7-61fa4017e02b',\n",
       " '81c8cc08-2aa2-4fc8-ab25-3fef0a490e27',\n",
       " '1678b909-3766-44b8-a507-df875b8c9314',\n",
       " '9a94f113-bc00-4d84-857a-f6990800f51e',\n",
       " '94da0b8a-4c64-49a7-9a98-d8ab12751e38',\n",
       " 'a04d4216-95a8-4f33-9d96-8ed26fea2d1a',\n",
       " '4cd6a622-88f9-469b-ade9-2c1942938b85',\n",
       " '822c536b-c1db-46e5-a27b-d77ea6ef666b',\n",
       " 'f19582d7-7de0-4427-ad97-d5a5fdc268ce',\n",
       " '686eefc9-4c3c-4271-82bb-d6301fc7ce16',\n",
       " 'e4d1b3a0-2832-4f09-9015-a9726276217f',\n",
       " '396338c7-e3d2-4557-8afa-4b3d2e5c3efa',\n",
       " '001bebd9-3d90-4a39-aa84-1f29b60269d5',\n",
       " '37b1a40f-b4cf-467d-941a-c6a8f7c50f99',\n",
       " '4378bb32-29a9-44b7-b81e-c9f41b66fe86',\n",
       " '68da3235-f2d5-4b05-95f9-b114da7d1bc5',\n",
       " '6f16b924-2ded-4d5f-9d9f-3d7f4b9b2b51',\n",
       " '0f8fb099-656d-4266-ad1e-bab0837769a6',\n",
       " '84681787-89f0-4c96-88a7-b3c380bbef90',\n",
       " '7b94582a-0226-488d-9cb6-42930619e7a3',\n",
       " 'a3ff33e5-4f53-4281-aa8c-b49687520b0f',\n",
       " '35160e41-6648-4561-b83a-eab4acf1eb25',\n",
       " 'b56cf42e-400b-4756-b96d-d7cbd01ec359',\n",
       " 'e237aca6-ffde-4925-9d68-f993ee185179',\n",
       " '6341bcc0-725c-46cb-b951-e2ff81865b13',\n",
       " '003cf9ef-49af-4e3d-b480-f9ac2f4bb62e',\n",
       " 'bd12ab60-4b48-4185-af09-d9ac3dc9fd41',\n",
       " 'c3fe0d33-7e07-4135-a42b-ab7c87e92c98',\n",
       " 'cac23c21-50e8-4597-aba9-bcbfff9ab88e',\n",
       " '4f271843-4d1c-4575-aacd-ece079a193de',\n",
       " '103af476-43a0-453e-b914-848b4f08a04f',\n",
       " 'af6ddf62-1628-4a2b-a7ca-054467dbdb59',\n",
       " '5af58d52-9255-4988-835d-2adf13813b52',\n",
       " 'ae4d62e5-bcab-43dd-bf77-d28aebd0e00d',\n",
       " 'fb2ad354-2c36-489e-8d64-35f13f62b927',\n",
       " '1bfc14b6-0037-4349-90d8-72f8377943b2',\n",
       " '3f22231e-522b-4e55-904b-878f60bc3131',\n",
       " '400c437e-3ba9-4294-87d5-d4ab5bcd7391',\n",
       " '421a71da-3a65-4cdb-ba5f-d9032766a721',\n",
       " 'ad23ec36-5ea6-403c-92f8-71ed776f1194',\n",
       " 'a0cb9cb9-ace6-4204-bbaf-2c4642426e44',\n",
       " '50fe6c7b-b963-40a6-9e78-604d0dacac68',\n",
       " '0ef0deb9-28c2-410b-8233-b59b804ab1c3',\n",
       " '0285bfe4-945d-4404-8555-ef405b5d20a6',\n",
       " '5c535fc6-fc5a-44a8-a9a2-838a3926aa6f',\n",
       " '9d7da30b-ccf1-415b-96c6-b67a3a1325de',\n",
       " '84cecfdd-50c9-4a3b-878b-ddb75529458e',\n",
       " '45225a7a-4f40-474c-b80f-8a36dee44c2a',\n",
       " 'dce02d26-adb2-4439-aab8-25e7c70baad4',\n",
       " '3c7ec166-022e-4192-a082-4fca382c80d1',\n",
       " '53c098bf-53de-4816-a70d-a883a10d0b86',\n",
       " '58ee9625-18fe-45dc-8072-c121f577eedb',\n",
       " '714bff88-ae10-462d-a916-ee0c89844a21',\n",
       " 'b1c0fbbb-73a9-457a-92f0-3318b208c093',\n",
       " '1903beb8-b130-4827-891a-ded46db307c5',\n",
       " 'f132f54e-ed18-4552-9955-76da41cef24e',\n",
       " 'fcffb871-a93a-4924-ba61-374a3ea97435',\n",
       " 'b24884e8-d902-42df-953c-fc5b1e8fa31b',\n",
       " '091f421d-8b3b-41e3-bcb5-548c9a322df2',\n",
       " '85974536-b2ad-4362-ad1f-1367b161096c',\n",
       " '09163be4-e468-4040-aedf-3aeb7b7173a9',\n",
       " 'b8c9a029-b200-4bc2-94d1-a273f462fde3',\n",
       " 'afabc98c-83ca-4e17-856c-b1dc15659a67',\n",
       " 'a6d042fa-d7f6-4a28-b259-2c6432d7635b',\n",
       " '8338c505-9c51-436d-aaea-7ddd44c535e7',\n",
       " 'd143c8fc-3b0a-43f3-9466-2194930f71af',\n",
       " '23943f18-667c-4c5c-8652-5c87406f2a63',\n",
       " 'd568e658-27f0-40a5-8eff-f1aff399f0bb',\n",
       " '68a30a87-e6eb-4db1-a767-956fb82444aa',\n",
       " 'ba0600a4-c255-4bf9-91f2-720dd50bd002',\n",
       " '3e5736aa-443e-4130-89f4-edf59c01ce84',\n",
       " '616246c0-4d7f-46b7-8dc8-0eb4d9e77257',\n",
       " '3b217c71-2846-427e-b15b-c77435506859',\n",
       " '36e8542e-2a29-4288-9a19-0e6e8e7ad498',\n",
       " 'f31e6da3-963e-459c-a227-a89de0875e60',\n",
       " 'b9846312-e98f-496f-ab2a-223502fb554b',\n",
       " 'ca3fb306-fe79-4111-bb3c-588e2afe4b23',\n",
       " '5bcdc51b-19ba-47f1-a885-8e1d585c201d',\n",
       " 'f35cffa5-72e6-4598-8f12-bae790e71f2b',\n",
       " '2f5a7d5a-a62a-4b4b-86d2-0613e9fdfa24',\n",
       " '42a64ba4-a438-4014-adee-7009be1a50a5',\n",
       " 'a45781a6-b514-41c8-9b0c-199f217f2cd9',\n",
       " 'd7179494-29a8-48a8-83e9-df3d5e352af0',\n",
       " 'fa9bdcad-b5ac-4996-843e-26f3894272c9',\n",
       " '4594249b-d3a9-40e5-b4d4-fa38c110d0ff',\n",
       " 'a024d6a5-9cc8-4b90-b5dc-657b21444505',\n",
       " '8d842683-6107-498d-a594-ceb7e9ac9aff',\n",
       " '76a09a4d-1ac3-40a2-9fbb-0cf3961e96ae',\n",
       " 'fab0065d-025f-4f50-9032-ec42846fe3e5',\n",
       " '6a9c4989-30a3-4502-9062-73c1d0b1246c',\n",
       " 'f56a6dc9-831a-48f7-afac-fc1eaad74baf',\n",
       " '2bf997d4-653e-42cd-b610-647b80dd6cac',\n",
       " 'bb42366e-2f28-43a3-92bc-c5472829dc80',\n",
       " '17ec0c15-c5e3-4e5a-b7b3-a82added6bdd',\n",
       " '564f978c-f324-4c60-8b7d-7292af7498e7',\n",
       " '39de4e42-dc02-4a7c-b2e5-5a866022df78',\n",
       " '073b4e3a-f664-45f5-b68e-98b84de9787c',\n",
       " '30cf8598-c288-478e-a643-b1972752bf0d',\n",
       " '81c6d41e-1a2d-4d23-8106-73f777a04fe2',\n",
       " 'f765ae16-5f0b-4dcb-83c3-dd7c169f8e87',\n",
       " '6d878c40-ce2c-4cbd-bb74-b06fe3afa0b3',\n",
       " '2350cbe9-607f-42f3-942b-ca8a8211e81a',\n",
       " 'b66118c8-77c7-4dc4-984a-0b4daa7c9645',\n",
       " '82bc900d-9457-47d8-8187-4039120f9922',\n",
       " 'c51dcdd7-0487-4a6c-a7d0-b64694596581',\n",
       " 'd3e0bb98-2781-4273-952b-96df713e47d4',\n",
       " 'a07043f7-9a34-4437-b637-b4e334d3481e']"
      ]
     },
     "execution_count": 23,
     "metadata": {},
     "output_type": "execute_result"
    }
   ],
   "source": [
    "ids "
   ]
  },
  {
   "cell_type": "code",
   "execution_count": 24,
   "id": "a7bb6382",
   "metadata": {},
   "outputs": [
    {
     "data": {
      "text/plain": [
       "(311, 311)"
      ]
     },
     "execution_count": 24,
     "metadata": {},
     "output_type": "execute_result"
    }
   ],
   "source": [
    "len(ids), vector_store.index.ntotal "
   ]
  },
  {
   "cell_type": "code",
   "execution_count": 25,
   "id": "be189158",
   "metadata": {},
   "outputs": [
    {
     "data": {
      "text/plain": [
       "[Document(id='1dede460-afaa-4e38-ac7c-2d409374c1e3', metadata={'producer': 'iLovePDF', 'creator': '', 'creationdate': '', 'source': 'rag-dataset\\\\gym supplements\\\\2. High Prevalence of Supplement Intake.pdf', 'file_path': 'rag-dataset\\\\gym supplements\\\\2. High Prevalence of Supplement Intake.pdf', 'total_pages': 11, 'format': 'PDF 1.5', 'title': '', 'author': '', 'subject': '', 'keywords': '', 'moddate': '2024-10-21T11:39:04+00:00', 'trapped': '', 'modDate': 'D:20241021113904Z', 'creationDate': '', 'page': 8}, page_content='and strength gain among men. We detected more prevalent protein and creatine supplementation\\namong younger compared to older ﬁtness center users, whereas the opposite was found for vitamin\\nsupplementation. Other authors made similar observations [23] and it might reﬂect the diﬀerent\\ntraining goals among age groups, i.e., more focus on strength and muscles among the younger and\\nmore focus on health among the older age groups.\\nComparable to other studies [4], we detected a positive correlation between training frequency\\nand supplement usage. Nevertheless, the correlation is weak and is deﬁnitely not a predictor at the\\nindividual level. The subject with the highest supplement intake of 100 weekly servings was training\\nonly once a week.'),\n",
       " Document(id='2c83f710-3f65-486b-89c4-cbb5f5506889', metadata={'producer': 'iLovePDF', 'creator': '', 'creationdate': '', 'source': 'rag-dataset\\\\gym supplements\\\\2. High Prevalence of Supplement Intake.pdf', 'file_path': 'rag-dataset\\\\gym supplements\\\\2. High Prevalence of Supplement Intake.pdf', 'total_pages': 11, 'format': 'PDF 1.5', 'title': '', 'author': '', 'subject': '', 'keywords': '', 'moddate': '2024-10-21T11:39:04+00:00', 'trapped': '', 'modDate': 'D:20241021113904Z', 'creationDate': '', 'page': 5}, page_content='for two training goals. Improving health was named by 59%, 60%, 75%, and 89% as a training goal\\namong the four age groups beginning from the youngest to the oldest group. On the other hand, body\\nshaping was named by 69%, 55%, 41%, and 17% among the four age groups.'),\n",
       " Document(id='57b73777-115c-460e-a412-506bd1f54856', metadata={'producer': 'iLovePDF', 'creator': '', 'creationdate': '', 'source': 'rag-dataset\\\\gym supplements\\\\1. Analysis of Actual Fitness Supplement.pdf', 'file_path': 'rag-dataset\\\\gym supplements\\\\1. Analysis of Actual Fitness Supplement.pdf', 'total_pages': 15, 'format': 'PDF 1.7', 'title': '', 'author': '', 'subject': '', 'keywords': '', 'moddate': '2024-10-21T11:38:50+00:00', 'trapped': '', 'modDate': 'D:20241021113850Z', 'creationDate': '', 'page': 0}, page_content='acids than traditional protein sources. Its numerous benefits have made it a popular choice\\nfor snacks and drinks among consumers [3]. Another widely embraced supplement is\\ncaffeine, which is found in many sports and food supplements. Caffeine reduces perceived\\neffort, minimizes fatigue and pain, and proves to be effective for endurance and high-\\nintensity activities, which is the choice of consumers [4].\\nCreatine monohydrate is another well-known supplement used to gain muscle mass\\nand support performance and recovery. It is known not to increase fat mass and remains\\neffective even when taken in recommended doses [5]. Despite its popularity in the fitness\\nFoods 2024, 13, 1424. https://doi.org/10.3390/foods13091424\\nhttps://www.mdpi.com/journal/foods'),\n",
       " Document(id='3dce2cfb-9337-48aa-9d75-28ce131db190', metadata={'producer': 'iLovePDF', 'creator': '', 'creationdate': '', 'source': 'rag-dataset\\\\gym supplements\\\\2. High Prevalence of Supplement Intake.pdf', 'file_path': 'rag-dataset\\\\gym supplements\\\\2. High Prevalence of Supplement Intake.pdf', 'total_pages': 11, 'format': 'PDF 1.5', 'title': '', 'author': '', 'subject': '', 'keywords': '', 'moddate': '2024-10-21T11:39:04+00:00', 'trapped': '', 'modDate': 'D:20241021113904Z', 'creationDate': '', 'page': 2}, page_content='bodybuilding, improve strength, improve endurance, improve sport speciﬁc performance, other\\nreasons). In the second section, the supplement use was screened by listing 25 predeﬁned substances\\nand product classes (Table 2). Spare lines were available to list “further” products not included in the\\nquestionnaire. For each product, intake frequency had to be indicated. The available categories were\\n“daily”, “several times per week”, “once a week”, “less than once a week”, “never”, and “don’t know”.\\nIn the last section, subjects were asked about their motivation to take the supplements, where they\\ninformed themselves about the supplements used, whether they were informed about potential side\\neﬀects or risks by their information source (yes or no) and what they considered to be important criteria\\nwhen selecting the particular information source(s). For these questions, a limited set of predeﬁned'),\n",
       " Document(id='f072008f-9297-482d-a18d-c1b9f781987c', metadata={'producer': 'iLovePDF', 'creator': '', 'creationdate': '', 'source': 'rag-dataset\\\\gym supplements\\\\1. Analysis of Actual Fitness Supplement.pdf', 'file_path': 'rag-dataset\\\\gym supplements\\\\1. Analysis of Actual Fitness Supplement.pdf', 'total_pages': 15, 'format': 'PDF 1.7', 'title': '', 'author': '', 'subject': '', 'keywords': '', 'moddate': '2024-10-21T11:38:50+00:00', 'trapped': '', 'modDate': 'D:20241021113850Z', 'creationDate': '', 'page': 0}, page_content='sionals, and policymakers seeking to promote informed and responsible supplement use among\\nhealth and fitness enthusiasts.\\nKeywords: fitness supplements; health belief model; theory of effort of minimization; theory of\\nplanned behavior; structural equation modelling\\n1. Introduction\\nSupplementary drinks or fitness supplements are commonly used to enhance an\\nindividual’s performance in various sports and health settings, catering to both competitive\\nand non-competitive athletes [1]. One widely known supplement for athletes and fitness\\nenthusiasts is protein supplements like protein shakes. Others may be whey protein,\\ncaffeine, and creatine, to name a few. These supplements play a crucial role in helping\\nindividuals increase muscle mass, recover faster, and enhance their overall performance [2].\\nWhey protein stands out as a top-quality protein source, containing more essential amino\\nacids than traditional protein sources. Its numerous benefits have made it a popular choice')]"
      ]
     },
     "execution_count": 25,
     "metadata": {},
     "output_type": "execute_result"
    }
   ],
   "source": [
    "question = \"How to gain muscle mass?\"\n",
    "result = vector_store.search(query=question, k=5, search_type=\"similarity\")\n",
    "result "
   ]
  },
  {
   "cell_type": "code",
   "execution_count": 26,
   "id": "dbbc325b",
   "metadata": {},
   "outputs": [],
   "source": [
    "db_name = \"gym supplements\"\n",
    "vector_store.save_local(db_name)"
   ]
  },
  {
   "cell_type": "code",
   "execution_count": null,
   "id": "e17c29ef",
   "metadata": {},
   "outputs": [],
   "source": []
  }
 ],
 "metadata": {
  "kernelspec": {
   "display_name": "venv",
   "language": "python",
   "name": "python3"
  },
  "language_info": {
   "codemirror_mode": {
    "name": "ipython",
    "version": 3
   },
   "file_extension": ".py",
   "mimetype": "text/x-python",
   "name": "python",
   "nbconvert_exporter": "python",
   "pygments_lexer": "ipython3",
   "version": "3.13.2"
  }
 },
 "nbformat": 4,
 "nbformat_minor": 5
}
