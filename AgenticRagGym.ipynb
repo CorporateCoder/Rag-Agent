{
 "cells": [
  {
   "cell_type": "markdown",
   "id": "07bb9aac",
   "metadata": {},
   "source": [
    "## Agentic RAG"
   ]
  },
  {
   "cell_type": "code",
   "execution_count": 1,
   "id": "a32269bb",
   "metadata": {},
   "outputs": [
    {
     "data": {
      "text/plain": [
       "True"
      ]
     },
     "execution_count": 1,
     "metadata": {},
     "output_type": "execute_result"
    }
   ],
   "source": [
    "import os \n",
    "import warnings\n",
    "from dotenv import load_dotenv\n",
    "\n",
    "os.environ[\"KMP_DUPLICATE_LIB_OK\"] = \"TRUE\"\n",
    "warnings.filterwarnings(\"ignore\")\n",
    "\n",
    "load_dotenv()"
   ]
  },
  {
   "cell_type": "code",
   "execution_count": 2,
   "id": "1c36d55f",
   "metadata": {},
   "outputs": [
    {
     "name": "stdout",
     "output_type": "stream",
     "text": [
      "content=\"I'm just a computer program, so I don't have feelings or emotions like humans do. However, I'm here to help and assist with any questions or tasks you may have! How can I help you today?\" additional_kwargs={} response_metadata={'model': 'llama3.2:latest', 'created_at': '2025-07-15T09:27:48.8594593Z', 'done': True, 'done_reason': 'stop', 'total_duration': 3056054700, 'load_duration': 2056683300, 'prompt_eval_count': 31, 'prompt_eval_duration': 128761900, 'eval_count': 45, 'eval_duration': 868527300, 'model_name': 'llama3.2:latest'} id='run--d453a0d5-b1e1-44a9-bf81-749db2984562-0' usage_metadata={'input_tokens': 31, 'output_tokens': 45, 'total_tokens': 76}\n"
     ]
    }
   ],
   "source": [
    "from langchain_ollama import ChatOllama\n",
    "\n",
    "model = \"llama3.2:latest\"\n",
    "llm = ChatOllama(model=model, base_url=\"http://localhost:11434\")\n",
    "print(llm.invoke(\"Hello, how are you?\"))"
   ]
  },
  {
   "cell_type": "markdown",
   "id": "c1418241",
   "metadata": {},
   "source": [
    "## Retriever"
   ]
  },
  {
   "cell_type": "code",
   "execution_count": 3,
   "id": "a18f2716",
   "metadata": {},
   "outputs": [],
   "source": [
    "from langchain_ollama import OllamaEmbeddings\n",
    "import faiss \n",
    "from langchain_community.vectorstores import FAISS\n",
    "from langchain_community.docstore.in_memory import InMemoryDocstore\n"
   ]
  },
  {
   "cell_type": "code",
   "execution_count": 4,
   "id": "e16bc135",
   "metadata": {},
   "outputs": [
    {
     "data": {
      "text/plain": [
       "[Document(id='7960e1db-2514-4dd7-b33d-a879fdfe9fb2', metadata={'producer': 'iLovePDF', 'creator': '', 'creationdate': '', 'source': 'rag-dataset\\\\gym supplements\\\\2. High Prevalence of Supplement Intake.pdf', 'file_path': 'rag-dataset\\\\gym supplements\\\\2. High Prevalence of Supplement Intake.pdf', 'total_pages': 11, 'format': 'PDF 1.5', 'title': '', 'author': '', 'subject': '', 'keywords': '', 'moddate': '2024-10-21T11:39:04+00:00', 'trapped': '', 'modDate': 'D:20241021113904Z', 'creationDate': '', 'page': 8}, page_content='and strength gain among men. We detected more prevalent protein and creatine supplementation\\namong younger compared to older ﬁtness center users, whereas the opposite was found for vitamin\\nsupplementation. Other authors made similar observations [23] and it might reﬂect the diﬀerent\\ntraining goals among age groups, i.e., more focus on strength and muscles among the younger and\\nmore focus on health among the older age groups.\\nComparable to other studies [4], we detected a positive correlation between training frequency\\nand supplement usage. Nevertheless, the correlation is weak and is deﬁnitely not a predictor at the\\nindividual level. The subject with the highest supplement intake of 100 weekly servings was training\\nonly once a week.'),\n",
       " Document(id='509087ec-5852-44b6-b53d-86ca7cd5d7b5', metadata={'producer': 'iLovePDF', 'creator': '', 'creationdate': '', 'source': 'rag-dataset\\\\gym supplements\\\\2. High Prevalence of Supplement Intake.pdf', 'file_path': 'rag-dataset\\\\gym supplements\\\\2. High Prevalence of Supplement Intake.pdf', 'total_pages': 11, 'format': 'PDF 1.5', 'title': '', 'author': '', 'subject': '', 'keywords': '', 'moddate': '2024-10-21T11:39:04+00:00', 'trapped': '', 'modDate': 'D:20241021113904Z', 'creationDate': '', 'page': 5}, page_content='for two training goals. Improving health was named by 59%, 60%, 75%, and 89% as a training goal\\namong the four age groups beginning from the youngest to the oldest group. On the other hand, body\\nshaping was named by 69%, 55%, 41%, and 17% among the four age groups.'),\n",
       " Document(id='2be8ca6b-be8a-4e40-9f27-d0980f883db6', metadata={'producer': 'iLovePDF', 'creator': '', 'creationdate': '', 'source': 'rag-dataset\\\\gym supplements\\\\1. Analysis of Actual Fitness Supplement.pdf', 'file_path': 'rag-dataset\\\\gym supplements\\\\1. Analysis of Actual Fitness Supplement.pdf', 'total_pages': 15, 'format': 'PDF 1.7', 'title': '', 'author': '', 'subject': '', 'keywords': '', 'moddate': '2024-10-21T11:38:50+00:00', 'trapped': '', 'modDate': 'D:20241021113850Z', 'creationDate': '', 'page': 0}, page_content='acids than traditional protein sources. Its numerous benefits have made it a popular choice\\nfor snacks and drinks among consumers [3]. Another widely embraced supplement is\\ncaffeine, which is found in many sports and food supplements. Caffeine reduces perceived\\neffort, minimizes fatigue and pain, and proves to be effective for endurance and high-\\nintensity activities, which is the choice of consumers [4].\\nCreatine monohydrate is another well-known supplement used to gain muscle mass\\nand support performance and recovery. It is known not to increase fat mass and remains\\neffective even when taken in recommended doses [5]. Despite its popularity in the fitness\\nFoods 2024, 13, 1424. https://doi.org/10.3390/foods13091424\\nhttps://www.mdpi.com/journal/foods'),\n",
       " Document(id='03e03d88-0f66-4144-827b-6a4d87cbca57', metadata={'producer': 'iLovePDF', 'creator': '', 'creationdate': '', 'source': 'rag-dataset\\\\gym supplements\\\\2. High Prevalence of Supplement Intake.pdf', 'file_path': 'rag-dataset\\\\gym supplements\\\\2. High Prevalence of Supplement Intake.pdf', 'total_pages': 11, 'format': 'PDF 1.5', 'title': '', 'author': '', 'subject': '', 'keywords': '', 'moddate': '2024-10-21T11:39:04+00:00', 'trapped': '', 'modDate': 'D:20241021113904Z', 'creationDate': '', 'page': 2}, page_content='bodybuilding, improve strength, improve endurance, improve sport speciﬁc performance, other\\nreasons). In the second section, the supplement use was screened by listing 25 predeﬁned substances\\nand product classes (Table 2). Spare lines were available to list “further” products not included in the\\nquestionnaire. For each product, intake frequency had to be indicated. The available categories were\\n“daily”, “several times per week”, “once a week”, “less than once a week”, “never”, and “don’t know”.\\nIn the last section, subjects were asked about their motivation to take the supplements, where they\\ninformed themselves about the supplements used, whether they were informed about potential side\\neﬀects or risks by their information source (yes or no) and what they considered to be important criteria\\nwhen selecting the particular information source(s). For these questions, a limited set of predeﬁned'),\n",
       " Document(id='0176577c-a31e-4d09-905f-711d21541ed2', metadata={'producer': 'iLovePDF', 'creator': '', 'creationdate': '', 'source': 'rag-dataset\\\\gym supplements\\\\1. Analysis of Actual Fitness Supplement.pdf', 'file_path': 'rag-dataset\\\\gym supplements\\\\1. Analysis of Actual Fitness Supplement.pdf', 'total_pages': 15, 'format': 'PDF 1.7', 'title': '', 'author': '', 'subject': '', 'keywords': '', 'moddate': '2024-10-21T11:38:50+00:00', 'trapped': '', 'modDate': 'D:20241021113850Z', 'creationDate': '', 'page': 0}, page_content='sionals, and policymakers seeking to promote informed and responsible supplement use among\\nhealth and fitness enthusiasts.\\nKeywords: fitness supplements; health belief model; theory of effort of minimization; theory of\\nplanned behavior; structural equation modelling\\n1. Introduction\\nSupplementary drinks or fitness supplements are commonly used to enhance an\\nindividual’s performance in various sports and health settings, catering to both competitive\\nand non-competitive athletes [1]. One widely known supplement for athletes and fitness\\nenthusiasts is protein supplements like protein shakes. Others may be whey protein,\\ncaffeine, and creatine, to name a few. These supplements play a crucial role in helping\\nindividuals increase muscle mass, recover faster, and enhance their overall performance [2].\\nWhey protein stands out as a top-quality protein source, containing more essential amino\\nacids than traditional protein sources. Its numerous benefits have made it a popular choice')]"
      ]
     },
     "execution_count": 4,
     "metadata": {},
     "output_type": "execute_result"
    }
   ],
   "source": [
    "embeddings = OllamaEmbeddings(\n",
    "    model=\"nomic-embed-text:v1.5\",\n",
    "    base_url=\"http://localhost:11434\"\n",
    ")\n",
    "\n",
    "db_name = \"gym supplements\"\n",
    "vector_store = FAISS.load_local(db_name, embeddings, allow_dangerous_deserialization=True)\n",
    "\n",
    "retriever = vector_store.as_retriever(search_type=\"similarity\", search_kwargs={\"k\": 5})\n",
    "\n",
    "question = \"How to gain muscle mass?\"\n",
    "retriever.invoke(question)     "
   ]
  },
  {
   "cell_type": "code",
   "execution_count": 5,
   "id": "927a11b0",
   "metadata": {},
   "outputs": [],
   "source": [
    "from langchain.tools.retriever import create_retriever_tool\n",
    "\n",
    "retriever_tool = create_retriever_tool(\n",
    "    retriever,\n",
    "    \"gym supplements\",\n",
    "    \"Search and return information about the gym supplements for workout and gym.\"\n",
    ")\n",
    "\n",
    "tools = [retriever_tool]"
   ]
  },
  {
   "cell_type": "code",
   "execution_count": 6,
   "id": "2354c119",
   "metadata": {},
   "outputs": [
    {
     "data": {
      "text/plain": [
       "[Tool(name='gym supplements', description='Search and return information about the gym supplements for workout and gym.', args_schema=<class 'langchain_core.tools.retriever.RetrieverInput'>, func=functools.partial(<function _get_relevant_documents at 0x000002B74DAD8E00>, retriever=VectorStoreRetriever(tags=['FAISS', 'OllamaEmbeddings'], vectorstore=<langchain_community.vectorstores.faiss.FAISS object at 0x000002B761FA9160>, search_kwargs={'k': 5}), document_prompt=PromptTemplate(input_variables=['page_content'], input_types={}, partial_variables={}, template='{page_content}'), document_separator='\\n\\n', response_format='content'), coroutine=functools.partial(<function _aget_relevant_documents at 0x000002B74DADA200>, retriever=VectorStoreRetriever(tags=['FAISS', 'OllamaEmbeddings'], vectorstore=<langchain_community.vectorstores.faiss.FAISS object at 0x000002B761FA9160>, search_kwargs={'k': 5}), document_prompt=PromptTemplate(input_variables=['page_content'], input_types={}, partial_variables={}, template='{page_content}'), document_separator='\\n\\n', response_format='content'))]"
      ]
     },
     "execution_count": 6,
     "metadata": {},
     "output_type": "execute_result"
    }
   ],
   "source": [
    "tools "
   ]
  },
  {
   "cell_type": "markdown",
   "id": "1e9fbb65",
   "metadata": {},
   "source": [
    "## Agentic RAG Graph"
   ]
  },
  {
   "cell_type": "code",
   "execution_count": 7,
   "id": "f35c5500",
   "metadata": {},
   "outputs": [],
   "source": [
    "from typing import Annotated, Sequence, TypedDict, Literal\n",
    "from langchain_core.messages import BaseMessage\n",
    "from langgraph.graph.message import add_messages\n",
    "\n",
    "class State(TypedDict):\n",
    "    messages: Annotated[Sequence[BaseMessage], add_messages]"
   ]
  },
  {
   "cell_type": "code",
   "execution_count": 8,
   "id": "db0908bd",
   "metadata": {},
   "outputs": [],
   "source": [
    "from langchain import hub \n",
    "from langchain_core.messages import HumanMessage, BaseMessage\n",
    "from langchain_core.output_parsers import StrOutputParser\n",
    "from langchain_core.prompts import PromptTemplate\n",
    "\n",
    "from pydantic import BaseModel, Field\n",
    "from langgraph.prebuilt import tools_condition"
   ]
  },
  {
   "cell_type": "markdown",
   "id": "1a12498a",
   "metadata": {},
   "source": [
    "## Document Grader"
   ]
  },
  {
   "cell_type": "code",
   "execution_count": 9,
   "id": "1faf1edc",
   "metadata": {},
   "outputs": [],
   "source": [
    "def grade_documents(state) -> Literal [\"generate\", \"rewrite\"]:\n",
    "    \"\"\"\n",
    "    Determines whether the retrieved documents are relevant to the question.\n",
    "\n",
    "    Args:\n",
    "        state (messages): The current state \n",
    "        \n",
    "    Returns: \n",
    "        str: A decision for whether the documents are relevant or not.\n",
    "    \"\"\"\n",
    "    \n",
    "    print(\"---CHECK RELEVANCE---\")\n",
    "    \n",
    "    #Data Model\n",
    "    class grade(BaseModel):\n",
    "        \"\"\"Binary score for relevance check.\"\"\"\n",
    "        \n",
    "        binary_score: str = Field(description=\"Relevance score 'yes' or 'no'\")\n",
    "        \n",
    "    #LLM with tool and validation\n",
    "    llm_with_structured_output = llm.with_structured_output(grade)\n",
    "    \n",
    "    #Prompt \n",
    "    prompt = PromptTemplate(\n",
    "        template=\"\"\"You are a grader assessing relevance of a retrieved document to a user question. \\n\n",
    "        Here is the retrieved document: \\n\\n {context} \\n\\n\n",
    "        Here is the user question: {question} \\n\n",
    "        If the document contains keyword(s) or semantic meaning related to the user question, grade it as relevant. \\n\n",
    "        Give a binary score of 'yes' or 'no' to indicate whether the document is relevant to the question.\"\"\",\n",
    "        input_variables=[\"context\", \"question\"],\n",
    "    )\n",
    "    \n",
    "    #Chain\n",
    "    chain = prompt | llm_with_structured_output \n",
    "    \n",
    "    messages = state[\"messages\"]\n",
    "    last_message = messages[-1]\n",
    "    \n",
    "    question = messages[0].content\n",
    "    docs = last_message.content\n",
    "    \n",
    "    scored_result = chain.invoke({\"question\": question, \"context\": docs})\n",
    "    \n",
    "    score = scored_result.binary_score \n",
    "    \n",
    "    if score == \"yes\":\n",
    "        print(\"---DECISION: DOCS RELEVANT---\")\n",
    "        return \"generate\"\n",
    "    \n",
    "    else:\n",
    "        print(\"---DECISION: DOCS NOT RELEVANT---\")\n",
    "        print(score)\n",
    "        return \"rewrite\""
   ]
  },
  {
   "cell_type": "markdown",
   "id": "4d3c5aa5",
   "metadata": {},
   "source": [
    "### Agent Node"
   ]
  },
  {
   "cell_type": "code",
   "execution_count": 10,
   "id": "229aafde",
   "metadata": {},
   "outputs": [
    {
     "data": {
      "text/plain": [
       "[Tool(name='gym supplements', description='Search and return information about the gym supplements for workout and gym.', args_schema=<class 'langchain_core.tools.retriever.RetrieverInput'>, func=functools.partial(<function _get_relevant_documents at 0x000002B74DAD8E00>, retriever=VectorStoreRetriever(tags=['FAISS', 'OllamaEmbeddings'], vectorstore=<langchain_community.vectorstores.faiss.FAISS object at 0x000002B761FA9160>, search_kwargs={'k': 5}), document_prompt=PromptTemplate(input_variables=['page_content'], input_types={}, partial_variables={}, template='{page_content}'), document_separator='\\n\\n', response_format='content'), coroutine=functools.partial(<function _aget_relevant_documents at 0x000002B74DADA200>, retriever=VectorStoreRetriever(tags=['FAISS', 'OllamaEmbeddings'], vectorstore=<langchain_community.vectorstores.faiss.FAISS object at 0x000002B761FA9160>, search_kwargs={'k': 5}), document_prompt=PromptTemplate(input_variables=['page_content'], input_types={}, partial_variables={}, template='{page_content}'), document_separator='\\n\\n', response_format='content'))]"
      ]
     },
     "execution_count": 10,
     "metadata": {},
     "output_type": "execute_result"
    }
   ],
   "source": [
    "tools "
   ]
  },
  {
   "cell_type": "code",
   "execution_count": 11,
   "id": "be47d95c",
   "metadata": {},
   "outputs": [],
   "source": [
    "def agent(state):\n",
    "    \"\"\"\n",
    "    Invokes the agent to generate a response based on the current state. Given\n",
    "    the question, it will decide to retrieve using the retriver tool, or simply end.\n",
    "    \n",
    "    Args:\n",
    "        state (messages): The current state\n",
    "        \n",
    "    Returns:\n",
    "        dict: The updated state with the agent response appended to messages\n",
    "    \"\"\"\n",
    "    print(\"---CALL AGENT---\")\n",
    "    messages = state[\"messages\"]\n",
    "    \n",
    "    llm_with_tools = llm.bind_tools(tools, tool_choice=\"required\")\n",
    "    response = llm_with_tools.invoke(messages)\n",
    "    #We return a list, because this will get added to the existing list \n",
    "    return {\"messages\": [response]}\n"
   ]
  },
  {
   "cell_type": "markdown",
   "id": "c8f7c880",
   "metadata": {},
   "source": [
    "### Rewrite Node"
   ]
  },
  {
   "cell_type": "code",
   "execution_count": 12,
   "id": "7eeb234f",
   "metadata": {},
   "outputs": [],
   "source": [
    "def rewrite(state):\n",
    "    \"\"\"\n",
    "    Transform the query to produce a better question.\n",
    "    \n",
    "    Args:\n",
    "        state (messages): The current state\n",
    "        \n",
    "    Returns:\n",
    "        dict: The updated state with re-phrased question \n",
    "    \"\"\"\n",
    "    \n",
    "    print(\"--TRANSFORM QUERY--\")\n",
    "    messages = state[\"messages\"]\n",
    "    question = messages[0].content\n",
    "    \n",
    "    msg = [\n",
    "        HumanMessage(\n",
    "            content=f\"\"\" \\n\n",
    "    Look at the input and try to reason about the underlying semantic intent / meaning. \\n \n",
    "    Here is the initial question: \n",
    "    \\n -------- \\n \n",
    "    {question}\n",
    "    \\n -------- \\n\n",
    "    Formulate an improved question: \"\"\",\n",
    "        )\n",
    "    ]\n",
    "    \n",
    "    #Grader \n",
    "    response = llm.invoke(msg)\n",
    "    return {\"messages\": [response]}"
   ]
  },
  {
   "cell_type": "markdown",
   "id": "66d144f2",
   "metadata": {},
   "source": [
    "### Generate Node"
   ]
  },
  {
   "cell_type": "code",
   "execution_count": 13,
   "id": "ba0f5855",
   "metadata": {},
   "outputs": [],
   "source": [
    "def generate(state): \n",
    "    \"\"\" \n",
    "    Generate answer\n",
    "    \n",
    "    Args:\n",
    "        state (messages): The current state\n",
    "        \n",
    "    Returns:\n",
    "        dict: The updated state with re-phrased question\n",
    "    \"\"\"\n",
    "    print(\"--GENERATE--\")\n",
    "    messages = state[\"messages\"]\n",
    "    question = messages[0].content\n",
    "    last_message = messages[-1]\n",
    "    \n",
    "    docs = last_message.content\n",
    "    \n",
    "    #Prompt\n",
    "    prompt = hub.pull(\"rlm/rag-prompt\")\n",
    "    \n",
    "    #Post-processing\n",
    "    def format_docs(docs):\n",
    "        return \"\\n\\n\".join(doc.page_content for doc in docs)\n",
    "    \n",
    "    #Chain\n",
    "    rag_chain = prompt | llm | StrOutputParser()\n",
    "    \n",
    "    #Run\n",
    "    response = rag_chain.invoke({\"context\": docs, \"question\": question})\n",
    "    return {\"messages\": [response]}"
   ]
  },
  {
   "cell_type": "markdown",
   "id": "89a0e753",
   "metadata": {},
   "source": [
    "## Graph"
   ]
  },
  {
   "cell_type": "code",
   "execution_count": 14,
   "id": "31627617",
   "metadata": {},
   "outputs": [],
   "source": [
    "from langgraph.graph import END, START, StateGraph\n",
    "from langgraph.prebuilt import ToolNode\n"
   ]
  },
  {
   "cell_type": "code",
   "execution_count": 15,
   "id": "5fddb8b6",
   "metadata": {},
   "outputs": [],
   "source": [
    "graph_builder = StateGraph(State)\n",
    "\n",
    "graph_builder.add_node(\"agent\", agent)\n",
    "retriever = ToolNode([retriever_tool])\n",
    "graph_builder.add_node(\"retriever\", retriever)\n",
    "graph_builder.add_node(\"rewrite\", rewrite)\n",
    "\n",
    "graph_builder.add_node(\"generate\", generate)\n",
    "\n",
    "\n",
    "graph_builder.add_edge(START, \"agent\")\n",
    "\n",
    "\n",
    "graph_builder.add_conditional_edges(\n",
    "    \"agent\",\n",
    "    \n",
    "    \n",
    "    tools_condition,\n",
    "    {\n",
    "        \"tools\": \"retriever\",\n",
    "        END: END\n",
    "    }\n",
    ")\n",
    "\n",
    "graph_builder.add_conditional_edges(\n",
    "    \"retriever\",\n",
    "    grade_documents\n",
    ")\n",
    "\n",
    "graph_builder.add_edge(\"generate\", END)\n",
    "graph_builder.add_edge(\"rewrite\", \"agent\")\n",
    "\n",
    "graph = graph_builder.compile()\n"
   ]
  },
  {
   "cell_type": "code",
   "execution_count": 16,
   "id": "525e919a",
   "metadata": {},
   "outputs": [
    {
     "data": {
      "text/plain": [
       "tools(tags=None, recurse=True, explode_args=False, func_accepts_config=True, func_accepts={'store': ('__pregel_store', None)}, tools_by_name={'gym supplements': Tool(name='gym supplements', description='Search and return information about the gym supplements for workout and gym.', args_schema=<class 'langchain_core.tools.retriever.RetrieverInput'>, func=functools.partial(<function _get_relevant_documents at 0x000002B74DAD8E00>, retriever=VectorStoreRetriever(tags=['FAISS', 'OllamaEmbeddings'], vectorstore=<langchain_community.vectorstores.faiss.FAISS object at 0x000002B761FA9160>, search_kwargs={'k': 5}), document_prompt=PromptTemplate(input_variables=['page_content'], input_types={}, partial_variables={}, template='{page_content}'), document_separator='\\n\\n', response_format='content'), coroutine=functools.partial(<function _aget_relevant_documents at 0x000002B74DADA200>, retriever=VectorStoreRetriever(tags=['FAISS', 'OllamaEmbeddings'], vectorstore=<langchain_community.vectorstores.faiss.FAISS object at 0x000002B761FA9160>, search_kwargs={'k': 5}), document_prompt=PromptTemplate(input_variables=['page_content'], input_types={}, partial_variables={}, template='{page_content}'), document_separator='\\n\\n', response_format='content'))}, tool_to_state_args={'gym supplements': {}}, tool_to_store_arg={'gym supplements': None}, handle_tool_errors=True, messages_key='messages')"
      ]
     },
     "execution_count": 16,
     "metadata": {},
     "output_type": "execute_result"
    }
   ],
   "source": [
    "retriever"
   ]
  },
  {
   "cell_type": "code",
   "execution_count": 17,
   "id": "3f0d8b91",
   "metadata": {},
   "outputs": [
    {
     "data": {
      "image/png": "[encoded data removed]",
      "text/plain": [
       "<IPython.core.display.Image object>"
      ]
     },
     "metadata": {},
     "output_type": "display_data"
    }
   ],
   "source": [
    "from IPython.display import Image, display\n",
    "\n",
    "display(Image(graph.get_graph().draw_mermaid_png()))"
   ]
  },
  {
   "cell_type": "code",
   "execution_count": 18,
   "id": "76f4405e",
   "metadata": {},
   "outputs": [
    {
     "name": "stdout",
     "output_type": "stream",
     "text": [
      "---CALL AGENT---\n",
      "\"Output from node 'agent':\"\n",
      "'-----'\n",
      "{   'messages': [   AIMessage(content='', additional_kwargs={}, response_metadata={'model': 'llama3.2:latest', 'created_at': '2025-07-15T09:27:53.9047867Z', 'done': True, 'done_reason': 'stop', 'total_duration': 603166200, 'load_duration': 51148900, 'prompt_eval_count': 172, 'prompt_eval_duration': 16975400, 'eval_count': 19, 'eval_duration': 534098300, 'model_name': 'llama3.2:latest'}, id='run--c22494d7-963f-42a0-94fb-d94898221fba-0', tool_calls=[{'name': 'gym supplements', 'args': {'query': 'langchain'}, 'id': 'bcffc36a-e556-4db9-8279-a1f103f6aab3', 'type': 'tool_call'}], usage_metadata={'input_tokens': 172, 'output_tokens': 19, 'total_tokens': 191})]}\n",
      "'\\n-------\\n'\n",
      "---CHECK RELEVANCE---\n",
      "---DECISION: DOCS NOT RELEVANT---\n",
      "no\n",
      "\"Output from node 'retriever':\"\n",
      "'-----'\n",
      "{   'messages': [   ToolMessage(content='metabolizing enzymes. As such, induction or suppression of relevant metabolizing enzymes \\ncan affect the pharmacokinetics of drugs and may warrant contraindications by health care \\nproviders. In vitro studies have implicated activation of the pregnane-X receptor (PXR) and \\nthe aryl hydrocarbon receptor (AhR) as a common mechanisms among several botanicals in \\nRonis et al.\\nPage 11\\nAnnu Rev Pharmacol Toxicol. Author manuscript; available in PMC 2019 February 19.\\nAuthor Manuscript\\nAuthor Manuscript\\nAuthor Manuscript\\nAuthor Manuscript\\n\\nCP1\\n4.4\\n0.8\\n0.7\\n0.7\\n0.8\\n0.9\\n0.6\\nCP2\\n4.4\\n0.8\\n0.8\\n0.8\\n-\\n-\\n-\\nCP3\\n4.3\\n0.8\\n0.8\\n0.8\\n-\\n-\\n-\\nCP4\\n4.1\\n0.9\\n0.8\\n0.8\\n-\\n-\\n-\\nCP5\\n4.6\\n0.7\\n0.7\\n0.7\\n\\nFigure 1\\nDifferences between food supplements and nutraceuticals\\nNutraceutical regulatory framework\\nBr J Clin Pharmacol (2018) 84 659–672\\n665\\n\\ntablets, tablets or pills, designed to be taken\\nin small individual quantities measured.\\nEU Directive 2002/46/EC [17]\\nPhytochemical (Bloch and\\nThomson, 1995)\\nSubstances found in edible fruit and vegetables\\nthat can be ingested daily (in quantities of grams)\\nby humans and that exhibit a potential to\\nfavourably modulate human metabolism to\\nprevent cancer and other diseases (isoﬂavones,\\nresveratrol, garlic allyl sulphides, tomato\\nlycopene, onion quercetin etc.).\\nBloch A, Thomson CA. Position of The\\nAmerican Dietetic Association (phytochemicals\\nand functional foods). J Am Diet Assoc\\n1995; 95: 493–496. [74]\\nNutraceuticals (De Felice, 1995)\\nFood or part of food that provides medical\\nor health beneﬁts, including the prevention\\nand/or treatment of a disease.\\nDeFelice SL. The nutraceutical revolution:\\nits impact on food industry R&D. Trends\\nFood Sci Technol 1995; 6: 59–61. [2]\\nNutraceuticals (Zeisel, 1999;\\nDSHEA, 1994)\\nA diet supplement that delivers a\\nconcentrated form of a biologically\\n\\nChinese skullcap.\\nThe examples listed above represent adverse effects caused by ingredients listed by the \\nproducers. More insidious is the addition of unlisted ingredients or drugs to dietary \\nsupplements. Anti-obesity drugs rimonabant, orlistat, and sibutramine or analogues thereof \\nhave been found in weight-loss supplements from Germany, Turkey, China, and Poland (96). \\nSide effects of these drugs, like panic attacks, psychotic episodes, and increases in blood \\npressure and heart rate in the case of sibutramine may therefore also be encountered in \\nindividuals using such adulterated supplements.\\nBody-building supplements are quite often adulterated with anabolic steroids that are \\nmodified variants of androgens designed to increase muscle mass. Studies from 2001 and \\nRonis et al.\\nPage 9\\nAnnu Rev Pharmacol Toxicol. Author manuscript; available in PMC 2019 February 19.\\nAuthor Manuscript\\nAuthor Manuscript\\nAuthor Manuscript\\nAuthor Manuscript', name='gym supplements', id='ce281f9e-ece2-417e-abf1-44e09a4da88f', tool_call_id='bcffc36a-e556-4db9-8279-a1f103f6aab3')]}\n",
      "'\\n-------\\n'\n",
      "--TRANSFORM QUERY--\n",
      "\"Output from node 'rewrite':\"\n",
      "'-----'\n",
      "{   'messages': [   AIMessage(content='Langchain appears to be a conversational AI framework that enables developers to build custom language models and integrate them with various applications. The underlying semantic intent of this query seems to be related to the capabilities, usage, or features of Langchain.\\n\\nImproved Question:\\n\"Can you provide an overview of Langchain\\'s features and applications, including its use cases in areas such as natural language processing, text generation, and conversational AI?\"', additional_kwargs={}, response_metadata={'model': 'llama3.2:latest', 'created_at': '2025-07-15T09:27:56.8952678Z', 'done': True, 'done_reason': 'stop', 'total_duration': 1789667600, 'load_duration': 41668600, 'prompt_eval_count': 72, 'prompt_eval_duration': 11222100, 'eval_count': 86, 'eval_duration': 1736660600, 'model_name': 'llama3.2:latest'}, id='run--7e590770-4e3a-410f-b11f-147c0a59e89e-0', usage_metadata={'input_tokens': 72, 'output_tokens': 86, 'total_tokens': 158})]}\n",
      "'\\n-------\\n'\n",
      "---CALL AGENT---\n",
      "\"Output from node 'agent':\"\n",
      "'-----'\n",
      "{   'messages': [   AIMessage(content='', additional_kwargs={}, response_metadata={'model': 'llama3.2:latest', 'created_at': '2025-07-15T09:27:57.8832469Z', 'done': True, 'done_reason': 'stop', 'total_duration': 982456600, 'load_duration': 41117600, 'prompt_eval_count': 944, 'prompt_eval_duration': 508952900, 'eval_count': 1, 'eval_duration': 427883800, 'model_name': 'llama3.2:latest'}, id='run--5e3a0b3c-cfaf-476b-8ebb-f3831af4bec7-0', usage_metadata={'input_tokens': 944, 'output_tokens': 1, 'total_tokens': 945})]}\n",
      "'\\n-------\\n'\n"
     ]
    }
   ],
   "source": [
    "from pprint import pprint \n",
    "\n",
    "# query = {\"messages\": [HumanMessage(\"How to gain muscle mass?\")]}\n",
    "query = {\"messages\": [HumanMessage(\"Tell me about langchain?\")]}\n",
    "\n",
    "#graph.invoke(query)\n",
    "\n",
    "for output in graph.stream(query):\n",
    "    for key, value in output.items():\n",
    "        pprint(f\"Output from node '{key}':\")\n",
    "        pprint(\"-----\")\n",
    "        pprint(value, indent=4, width=120)\n",
    "        \n",
    "        \n",
    "    pprint(\"\\n-------\\n\")"
   ]
  },
  {
   "cell_type": "code",
   "execution_count": null,
   "id": "2bcf1a89",
   "metadata": {},
   "outputs": [],
   "source": []
  }
 ],
 "metadata": {
  "kernelspec": {
   "display_name": "venv",
   "language": "python",
   "name": "python3"
  },
  "language_info": {
   "codemirror_mode": {
    "name": "ipython",
    "version": 3
   },
   "file_extension": ".py",
   "mimetype": "text/x-python",
   "name": "python",
   "nbconvert_exporter": "python",
   "pygments_lexer": "ipython3",
   "version": "3.13.2"
  }
 },
 "nbformat": 4,
 "nbformat_minor": 5
}
